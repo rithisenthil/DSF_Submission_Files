{
  "cells": [
    {
      "cell_type": "code",
      "execution_count": 11,
      "metadata": {
        "id": "MXrZYp48fmDG"
      },
      "outputs": [],
      "source": [
        "import numpy as np\n",
        "import pandas as pd\n",
        "import arviz as az\n",
        "import pymc as pm\n",
        "import matplotlib.pyplot as plt"
      ]
    },
    {
      "cell_type": "code",
      "execution_count": 10,
      "metadata": {
        "colab": {
          "base_uri": "https://localhost:8080/"
        },
        "collapsed": true,
        "id": "f5_63zOpfqiW",
        "outputId": "e06ec2b3-8a6a-4afb-ec08-20cfe4e15be8"
      },
      "outputs": [
        {
          "output_type": "stream",
          "name": "stdout",
          "text": [
            "Collecting git+https://github.com/pydata/xarray.git\n",
            "  Cloning https://github.com/pydata/xarray.git to /tmp/pip-req-build-9p354co9\n",
            "  Running command git clone --filter=blob:none --quiet https://github.com/pydata/xarray.git /tmp/pip-req-build-9p354co9\n",
            "  Resolved https://github.com/pydata/xarray.git to commit 326dbe78d7ea887c2c242e811b7973661137617f\n",
            "  Installing build dependencies ... \u001b[?25l\u001b[?25hdone\n",
            "  Getting requirements to build wheel ... \u001b[?25l\u001b[?25hdone\n",
            "  Preparing metadata (pyproject.toml) ... \u001b[?25l\u001b[?25hdone\n",
            "Requirement already satisfied: numpy>=1.24 in /usr/local/lib/python3.11/dist-packages (from xarray==2025.1.2.dev31+g326dbe78) (1.26.4)\n",
            "Requirement already satisfied: packaging>=23.2 in /usr/local/lib/python3.11/dist-packages (from xarray==2025.1.2.dev31+g326dbe78) (24.2)\n",
            "Requirement already satisfied: pandas>=2.1 in /usr/local/lib/python3.11/dist-packages (from xarray==2025.1.2.dev31+g326dbe78) (2.2.2)\n",
            "Requirement already satisfied: python-dateutil>=2.8.2 in /usr/local/lib/python3.11/dist-packages (from pandas>=2.1->xarray==2025.1.2.dev31+g326dbe78) (2.8.2)\n",
            "Requirement already satisfied: pytz>=2020.1 in /usr/local/lib/python3.11/dist-packages (from pandas>=2.1->xarray==2025.1.2.dev31+g326dbe78) (2024.2)\n",
            "Requirement already satisfied: tzdata>=2022.7 in /usr/local/lib/python3.11/dist-packages (from pandas>=2.1->xarray==2025.1.2.dev31+g326dbe78) (2025.1)\n",
            "Requirement already satisfied: six>=1.5 in /usr/local/lib/python3.11/dist-packages (from python-dateutil>=2.8.2->pandas>=2.1->xarray==2025.1.2.dev31+g326dbe78) (1.17.0)\n",
            "Requirement already satisfied: bambi in /usr/local/lib/python3.11/dist-packages (0.15.0)\n",
            "Requirement already satisfied: arviz>=0.12.0 in /usr/local/lib/python3.11/dist-packages (from bambi) (0.20.0)\n",
            "Requirement already satisfied: formulae>=0.5.3 in /usr/local/lib/python3.11/dist-packages (from bambi) (0.5.4)\n",
            "Requirement already satisfied: graphviz in /usr/local/lib/python3.11/dist-packages (from bambi) (0.20.3)\n",
            "Requirement already satisfied: pandas>=1.0.0 in /usr/local/lib/python3.11/dist-packages (from bambi) (2.2.2)\n",
            "Requirement already satisfied: pymc>=5.18.0 in /usr/local/lib/python3.11/dist-packages (from bambi) (5.19.1)\n",
            "Requirement already satisfied: setuptools>=60.0.0 in /usr/local/lib/python3.11/dist-packages (from arviz>=0.12.0->bambi) (75.1.0)\n",
            "Requirement already satisfied: matplotlib>=3.5 in /usr/local/lib/python3.11/dist-packages (from arviz>=0.12.0->bambi) (3.10.0)\n",
            "Requirement already satisfied: numpy>=1.23.0 in /usr/local/lib/python3.11/dist-packages (from arviz>=0.12.0->bambi) (1.26.4)\n",
            "Requirement already satisfied: scipy>=1.9.0 in /usr/local/lib/python3.11/dist-packages (from arviz>=0.12.0->bambi) (1.13.1)\n",
            "Requirement already satisfied: packaging in /usr/local/lib/python3.11/dist-packages (from arviz>=0.12.0->bambi) (24.2)\n",
            "Requirement already satisfied: xarray>=2022.6.0 in /usr/local/lib/python3.11/dist-packages (from arviz>=0.12.0->bambi) (2025.1.2.dev31+g326dbe78)\n",
            "Requirement already satisfied: h5netcdf>=1.0.2 in /usr/local/lib/python3.11/dist-packages (from arviz>=0.12.0->bambi) (1.5.0)\n",
            "Requirement already satisfied: typing-extensions>=4.1.0 in /usr/local/lib/python3.11/dist-packages (from arviz>=0.12.0->bambi) (4.12.2)\n",
            "Requirement already satisfied: xarray-einstats>=0.3 in /usr/local/lib/python3.11/dist-packages (from arviz>=0.12.0->bambi) (0.8.0)\n",
            "Requirement already satisfied: python-dateutil>=2.8.2 in /usr/local/lib/python3.11/dist-packages (from pandas>=1.0.0->bambi) (2.8.2)\n",
            "Requirement already satisfied: pytz>=2020.1 in /usr/local/lib/python3.11/dist-packages (from pandas>=1.0.0->bambi) (2024.2)\n",
            "Requirement already satisfied: tzdata>=2022.7 in /usr/local/lib/python3.11/dist-packages (from pandas>=1.0.0->bambi) (2025.1)\n",
            "Requirement already satisfied: cachetools>=4.2.1 in /usr/local/lib/python3.11/dist-packages (from pymc>=5.18.0->bambi) (5.5.1)\n",
            "Requirement already satisfied: cloudpickle in /usr/local/lib/python3.11/dist-packages (from pymc>=5.18.0->bambi) (3.1.1)\n",
            "Requirement already satisfied: pytensor<2.27,>=2.26.1 in /usr/local/lib/python3.11/dist-packages (from pymc>=5.18.0->bambi) (2.26.4)\n",
            "Requirement already satisfied: rich>=13.7.1 in /usr/local/lib/python3.11/dist-packages (from pymc>=5.18.0->bambi) (13.9.4)\n",
            "Requirement already satisfied: threadpoolctl<4.0.0,>=3.1.0 in /usr/local/lib/python3.11/dist-packages (from pymc>=5.18.0->bambi) (3.5.0)\n",
            "Requirement already satisfied: h5py in /usr/local/lib/python3.11/dist-packages (from h5netcdf>=1.0.2->arviz>=0.12.0->bambi) (3.12.1)\n",
            "Requirement already satisfied: contourpy>=1.0.1 in /usr/local/lib/python3.11/dist-packages (from matplotlib>=3.5->arviz>=0.12.0->bambi) (1.3.1)\n",
            "Requirement already satisfied: cycler>=0.10 in /usr/local/lib/python3.11/dist-packages (from matplotlib>=3.5->arviz>=0.12.0->bambi) (0.12.1)\n",
            "Requirement already satisfied: fonttools>=4.22.0 in /usr/local/lib/python3.11/dist-packages (from matplotlib>=3.5->arviz>=0.12.0->bambi) (4.55.7)\n",
            "Requirement already satisfied: kiwisolver>=1.3.1 in /usr/local/lib/python3.11/dist-packages (from matplotlib>=3.5->arviz>=0.12.0->bambi) (1.4.8)\n",
            "Requirement already satisfied: pillow>=8 in /usr/local/lib/python3.11/dist-packages (from matplotlib>=3.5->arviz>=0.12.0->bambi) (11.1.0)\n",
            "Requirement already satisfied: pyparsing>=2.3.1 in /usr/local/lib/python3.11/dist-packages (from matplotlib>=3.5->arviz>=0.12.0->bambi) (3.2.1)\n",
            "Requirement already satisfied: filelock>=3.15 in /usr/local/lib/python3.11/dist-packages (from pytensor<2.27,>=2.26.1->pymc>=5.18.0->bambi) (3.17.0)\n",
            "Requirement already satisfied: etuples in /usr/local/lib/python3.11/dist-packages (from pytensor<2.27,>=2.26.1->pymc>=5.18.0->bambi) (0.3.9)\n",
            "Requirement already satisfied: logical-unification in /usr/local/lib/python3.11/dist-packages (from pytensor<2.27,>=2.26.1->pymc>=5.18.0->bambi) (0.4.6)\n",
            "Requirement already satisfied: miniKanren in /usr/local/lib/python3.11/dist-packages (from pytensor<2.27,>=2.26.1->pymc>=5.18.0->bambi) (1.0.3)\n",
            "Requirement already satisfied: cons in /usr/local/lib/python3.11/dist-packages (from pytensor<2.27,>=2.26.1->pymc>=5.18.0->bambi) (0.4.6)\n",
            "Requirement already satisfied: six>=1.5 in /usr/local/lib/python3.11/dist-packages (from python-dateutil>=2.8.2->pandas>=1.0.0->bambi) (1.17.0)\n",
            "Requirement already satisfied: markdown-it-py>=2.2.0 in /usr/local/lib/python3.11/dist-packages (from rich>=13.7.1->pymc>=5.18.0->bambi) (3.0.0)\n",
            "Requirement already satisfied: pygments<3.0.0,>=2.13.0 in /usr/local/lib/python3.11/dist-packages (from rich>=13.7.1->pymc>=5.18.0->bambi) (2.18.0)\n",
            "Requirement already satisfied: mdurl~=0.1 in /usr/local/lib/python3.11/dist-packages (from markdown-it-py>=2.2.0->rich>=13.7.1->pymc>=5.18.0->bambi) (0.1.2)\n",
            "Requirement already satisfied: toolz in /usr/local/lib/python3.11/dist-packages (from logical-unification->pytensor<2.27,>=2.26.1->pymc>=5.18.0->bambi) (0.12.1)\n",
            "Requirement already satisfied: multipledispatch in /usr/local/lib/python3.11/dist-packages (from logical-unification->pytensor<2.27,>=2.26.1->pymc>=5.18.0->bambi) (1.0.0)\n"
          ]
        }
      ],
      "source": [
        "!pip install git+https://github.com/pydata/xarray.git\n",
        "import xarray as xr\n",
        "!pip install bambi"
      ]
    },
    {
      "cell_type": "code",
      "execution_count": 12,
      "metadata": {
        "id": "kmCu4yKbfqzt"
      },
      "outputs": [],
      "source": [
        "import bambi as bmb"
      ]
    },
    {
      "cell_type": "markdown",
      "metadata": {
        "id": "qQ97TuQefvR_"
      },
      "source": [
        "In this project I will be using **a combination of variables such as rating, year released, budget, runtime, and gross revenue to predict a movies popularity score out of 10**."
      ]
    },
    {
      "cell_type": "markdown",
      "source": [
        "**Data**"
      ],
      "metadata": {
        "id": "lHYq2TCPt1aW"
      }
    },
    {
      "cell_type": "code",
      "execution_count": 5,
      "metadata": {
        "colab": {
          "base_uri": "https://localhost:8080/",
          "height": 912
        },
        "id": "SLR1MKw1zdiV",
        "outputId": "8acf60e8-9d43-4689-c0e7-ad5cd9fce559"
      },
      "outputs": [
        {
          "output_type": "execute_result",
          "data": {
            "text/plain": [
              "                                                name rating      genre  year  \\\n",
              "0                                        The Shining      R      Drama  1980   \n",
              "1                                    The Blue Lagoon      R  Adventure  1980   \n",
              "2     Star Wars: Episode V - The Empire Strikes Back     PG     Action  1980   \n",
              "3                                          Airplane!     PG     Comedy  1980   \n",
              "4                                         Caddyshack      R     Comedy  1980   \n",
              "...                                              ...    ...        ...   ...   \n",
              "7663                                    More to Life    NaN      Drama  2020   \n",
              "7664                                     Dream Round    NaN     Comedy  2020   \n",
              "7665                                   Saving Mbango    NaN      Drama  2020   \n",
              "7666                                    It's Just Us    NaN      Drama  2020   \n",
              "7667                                       Tee em el    NaN     Horror  2020   \n",
              "\n",
              "                              released  score      votes         director  \\\n",
              "0        June 13, 1980 (United States)    8.4   927000.0  Stanley Kubrick   \n",
              "1         July 2, 1980 (United States)    5.8    65000.0   Randal Kleiser   \n",
              "2        June 20, 1980 (United States)    8.7  1200000.0   Irvin Kershner   \n",
              "3         July 2, 1980 (United States)    7.7   221000.0     Jim Abrahams   \n",
              "4        July 25, 1980 (United States)    7.3   108000.0     Harold Ramis   \n",
              "...                                ...    ...        ...              ...   \n",
              "7663  October 23, 2020 (United States)    3.1       18.0    Joseph Ebanks   \n",
              "7664  February 7, 2020 (United States)    4.7       36.0     Dusty Dukatz   \n",
              "7665         April 27, 2020 (Cameroon)    5.7       29.0     Nkanya Nkwai   \n",
              "7666   October 1, 2020 (United States)    NaN        NaN    James Randall   \n",
              "7667   August 19, 2020 (United States)    5.7        7.0     Pereko Mosia   \n",
              "\n",
              "                       writer              star         country      budget  \\\n",
              "0                Stephen King    Jack Nicholson  United Kingdom  19000000.0   \n",
              "1     Henry De Vere Stacpoole    Brooke Shields   United States   4500000.0   \n",
              "2              Leigh Brackett       Mark Hamill   United States  18000000.0   \n",
              "3                Jim Abrahams       Robert Hays   United States   3500000.0   \n",
              "4          Brian Doyle-Murray       Chevy Chase   United States   6000000.0   \n",
              "...                       ...               ...             ...         ...   \n",
              "7663            Joseph Ebanks      Shannon Bond   United States      7000.0   \n",
              "7664              Lisa Huston  Michael Saquella   United States         NaN   \n",
              "7665             Lynno Lovert      Onyama Laura   United States     58750.0   \n",
              "7666            James Randall     Christina Roz   United States     15000.0   \n",
              "7667             Pereko Mosia  Siyabonga Mabaso    South Africa         NaN   \n",
              "\n",
              "            gross                    company  runtime  \n",
              "0      46998772.0               Warner Bros.    146.0  \n",
              "1      58853106.0          Columbia Pictures    104.0  \n",
              "2     538375067.0                  Lucasfilm    124.0  \n",
              "3      83453539.0         Paramount Pictures     88.0  \n",
              "4      39846344.0             Orion Pictures     98.0  \n",
              "...           ...                        ...      ...  \n",
              "7663          NaN                        NaN     90.0  \n",
              "7664          NaN  Cactus Blue Entertainment     90.0  \n",
              "7665          NaN           Embi Productions      NaN  \n",
              "7666          NaN                        NaN    120.0  \n",
              "7667          NaN                PK 65 Films    102.0  \n",
              "\n",
              "[7668 rows x 15 columns]"
            ],
            "text/html": [
              "\n",
              "  <div id=\"df-8c1be278-8478-45d7-857c-f2def3a0a3ba\" class=\"colab-df-container\">\n",
              "    <div>\n",
              "<style scoped>\n",
              "    .dataframe tbody tr th:only-of-type {\n",
              "        vertical-align: middle;\n",
              "    }\n",
              "\n",
              "    .dataframe tbody tr th {\n",
              "        vertical-align: top;\n",
              "    }\n",
              "\n",
              "    .dataframe thead th {\n",
              "        text-align: right;\n",
              "    }\n",
              "</style>\n",
              "<table border=\"1\" class=\"dataframe\">\n",
              "  <thead>\n",
              "    <tr style=\"text-align: right;\">\n",
              "      <th></th>\n",
              "      <th>name</th>\n",
              "      <th>rating</th>\n",
              "      <th>genre</th>\n",
              "      <th>year</th>\n",
              "      <th>released</th>\n",
              "      <th>score</th>\n",
              "      <th>votes</th>\n",
              "      <th>director</th>\n",
              "      <th>writer</th>\n",
              "      <th>star</th>\n",
              "      <th>country</th>\n",
              "      <th>budget</th>\n",
              "      <th>gross</th>\n",
              "      <th>company</th>\n",
              "      <th>runtime</th>\n",
              "    </tr>\n",
              "  </thead>\n",
              "  <tbody>\n",
              "    <tr>\n",
              "      <th>0</th>\n",
              "      <td>The Shining</td>\n",
              "      <td>R</td>\n",
              "      <td>Drama</td>\n",
              "      <td>1980</td>\n",
              "      <td>June 13, 1980 (United States)</td>\n",
              "      <td>8.4</td>\n",
              "      <td>927000.0</td>\n",
              "      <td>Stanley Kubrick</td>\n",
              "      <td>Stephen King</td>\n",
              "      <td>Jack Nicholson</td>\n",
              "      <td>United Kingdom</td>\n",
              "      <td>19000000.0</td>\n",
              "      <td>46998772.0</td>\n",
              "      <td>Warner Bros.</td>\n",
              "      <td>146.0</td>\n",
              "    </tr>\n",
              "    <tr>\n",
              "      <th>1</th>\n",
              "      <td>The Blue Lagoon</td>\n",
              "      <td>R</td>\n",
              "      <td>Adventure</td>\n",
              "      <td>1980</td>\n",
              "      <td>July 2, 1980 (United States)</td>\n",
              "      <td>5.8</td>\n",
              "      <td>65000.0</td>\n",
              "      <td>Randal Kleiser</td>\n",
              "      <td>Henry De Vere Stacpoole</td>\n",
              "      <td>Brooke Shields</td>\n",
              "      <td>United States</td>\n",
              "      <td>4500000.0</td>\n",
              "      <td>58853106.0</td>\n",
              "      <td>Columbia Pictures</td>\n",
              "      <td>104.0</td>\n",
              "    </tr>\n",
              "    <tr>\n",
              "      <th>2</th>\n",
              "      <td>Star Wars: Episode V - The Empire Strikes Back</td>\n",
              "      <td>PG</td>\n",
              "      <td>Action</td>\n",
              "      <td>1980</td>\n",
              "      <td>June 20, 1980 (United States)</td>\n",
              "      <td>8.7</td>\n",
              "      <td>1200000.0</td>\n",
              "      <td>Irvin Kershner</td>\n",
              "      <td>Leigh Brackett</td>\n",
              "      <td>Mark Hamill</td>\n",
              "      <td>United States</td>\n",
              "      <td>18000000.0</td>\n",
              "      <td>538375067.0</td>\n",
              "      <td>Lucasfilm</td>\n",
              "      <td>124.0</td>\n",
              "    </tr>\n",
              "    <tr>\n",
              "      <th>3</th>\n",
              "      <td>Airplane!</td>\n",
              "      <td>PG</td>\n",
              "      <td>Comedy</td>\n",
              "      <td>1980</td>\n",
              "      <td>July 2, 1980 (United States)</td>\n",
              "      <td>7.7</td>\n",
              "      <td>221000.0</td>\n",
              "      <td>Jim Abrahams</td>\n",
              "      <td>Jim Abrahams</td>\n",
              "      <td>Robert Hays</td>\n",
              "      <td>United States</td>\n",
              "      <td>3500000.0</td>\n",
              "      <td>83453539.0</td>\n",
              "      <td>Paramount Pictures</td>\n",
              "      <td>88.0</td>\n",
              "    </tr>\n",
              "    <tr>\n",
              "      <th>4</th>\n",
              "      <td>Caddyshack</td>\n",
              "      <td>R</td>\n",
              "      <td>Comedy</td>\n",
              "      <td>1980</td>\n",
              "      <td>July 25, 1980 (United States)</td>\n",
              "      <td>7.3</td>\n",
              "      <td>108000.0</td>\n",
              "      <td>Harold Ramis</td>\n",
              "      <td>Brian Doyle-Murray</td>\n",
              "      <td>Chevy Chase</td>\n",
              "      <td>United States</td>\n",
              "      <td>6000000.0</td>\n",
              "      <td>39846344.0</td>\n",
              "      <td>Orion Pictures</td>\n",
              "      <td>98.0</td>\n",
              "    </tr>\n",
              "    <tr>\n",
              "      <th>...</th>\n",
              "      <td>...</td>\n",
              "      <td>...</td>\n",
              "      <td>...</td>\n",
              "      <td>...</td>\n",
              "      <td>...</td>\n",
              "      <td>...</td>\n",
              "      <td>...</td>\n",
              "      <td>...</td>\n",
              "      <td>...</td>\n",
              "      <td>...</td>\n",
              "      <td>...</td>\n",
              "      <td>...</td>\n",
              "      <td>...</td>\n",
              "      <td>...</td>\n",
              "      <td>...</td>\n",
              "    </tr>\n",
              "    <tr>\n",
              "      <th>7663</th>\n",
              "      <td>More to Life</td>\n",
              "      <td>NaN</td>\n",
              "      <td>Drama</td>\n",
              "      <td>2020</td>\n",
              "      <td>October 23, 2020 (United States)</td>\n",
              "      <td>3.1</td>\n",
              "      <td>18.0</td>\n",
              "      <td>Joseph Ebanks</td>\n",
              "      <td>Joseph Ebanks</td>\n",
              "      <td>Shannon Bond</td>\n",
              "      <td>United States</td>\n",
              "      <td>7000.0</td>\n",
              "      <td>NaN</td>\n",
              "      <td>NaN</td>\n",
              "      <td>90.0</td>\n",
              "    </tr>\n",
              "    <tr>\n",
              "      <th>7664</th>\n",
              "      <td>Dream Round</td>\n",
              "      <td>NaN</td>\n",
              "      <td>Comedy</td>\n",
              "      <td>2020</td>\n",
              "      <td>February 7, 2020 (United States)</td>\n",
              "      <td>4.7</td>\n",
              "      <td>36.0</td>\n",
              "      <td>Dusty Dukatz</td>\n",
              "      <td>Lisa Huston</td>\n",
              "      <td>Michael Saquella</td>\n",
              "      <td>United States</td>\n",
              "      <td>NaN</td>\n",
              "      <td>NaN</td>\n",
              "      <td>Cactus Blue Entertainment</td>\n",
              "      <td>90.0</td>\n",
              "    </tr>\n",
              "    <tr>\n",
              "      <th>7665</th>\n",
              "      <td>Saving Mbango</td>\n",
              "      <td>NaN</td>\n",
              "      <td>Drama</td>\n",
              "      <td>2020</td>\n",
              "      <td>April 27, 2020 (Cameroon)</td>\n",
              "      <td>5.7</td>\n",
              "      <td>29.0</td>\n",
              "      <td>Nkanya Nkwai</td>\n",
              "      <td>Lynno Lovert</td>\n",
              "      <td>Onyama Laura</td>\n",
              "      <td>United States</td>\n",
              "      <td>58750.0</td>\n",
              "      <td>NaN</td>\n",
              "      <td>Embi Productions</td>\n",
              "      <td>NaN</td>\n",
              "    </tr>\n",
              "    <tr>\n",
              "      <th>7666</th>\n",
              "      <td>It's Just Us</td>\n",
              "      <td>NaN</td>\n",
              "      <td>Drama</td>\n",
              "      <td>2020</td>\n",
              "      <td>October 1, 2020 (United States)</td>\n",
              "      <td>NaN</td>\n",
              "      <td>NaN</td>\n",
              "      <td>James Randall</td>\n",
              "      <td>James Randall</td>\n",
              "      <td>Christina Roz</td>\n",
              "      <td>United States</td>\n",
              "      <td>15000.0</td>\n",
              "      <td>NaN</td>\n",
              "      <td>NaN</td>\n",
              "      <td>120.0</td>\n",
              "    </tr>\n",
              "    <tr>\n",
              "      <th>7667</th>\n",
              "      <td>Tee em el</td>\n",
              "      <td>NaN</td>\n",
              "      <td>Horror</td>\n",
              "      <td>2020</td>\n",
              "      <td>August 19, 2020 (United States)</td>\n",
              "      <td>5.7</td>\n",
              "      <td>7.0</td>\n",
              "      <td>Pereko Mosia</td>\n",
              "      <td>Pereko Mosia</td>\n",
              "      <td>Siyabonga Mabaso</td>\n",
              "      <td>South Africa</td>\n",
              "      <td>NaN</td>\n",
              "      <td>NaN</td>\n",
              "      <td>PK 65 Films</td>\n",
              "      <td>102.0</td>\n",
              "    </tr>\n",
              "  </tbody>\n",
              "</table>\n",
              "<p>7668 rows × 15 columns</p>\n",
              "</div>\n",
              "    <div class=\"colab-df-buttons\">\n",
              "\n",
              "  <div class=\"colab-df-container\">\n",
              "    <button class=\"colab-df-convert\" onclick=\"convertToInteractive('df-8c1be278-8478-45d7-857c-f2def3a0a3ba')\"\n",
              "            title=\"Convert this dataframe to an interactive table.\"\n",
              "            style=\"display:none;\">\n",
              "\n",
              "  <svg xmlns=\"http://www.w3.org/2000/svg\" height=\"24px\" viewBox=\"0 -960 960 960\">\n",
              "    <path d=\"M120-120v-720h720v720H120Zm60-500h600v-160H180v160Zm220 220h160v-160H400v160Zm0 220h160v-160H400v160ZM180-400h160v-160H180v160Zm440 0h160v-160H620v160ZM180-180h160v-160H180v160Zm440 0h160v-160H620v160Z\"/>\n",
              "  </svg>\n",
              "    </button>\n",
              "\n",
              "  <style>\n",
              "    .colab-df-container {\n",
              "      display:flex;\n",
              "      gap: 12px;\n",
              "    }\n",
              "\n",
              "    .colab-df-convert {\n",
              "      background-color: #E8F0FE;\n",
              "      border: none;\n",
              "      border-radius: 50%;\n",
              "      cursor: pointer;\n",
              "      display: none;\n",
              "      fill: #1967D2;\n",
              "      height: 32px;\n",
              "      padding: 0 0 0 0;\n",
              "      width: 32px;\n",
              "    }\n",
              "\n",
              "    .colab-df-convert:hover {\n",
              "      background-color: #E2EBFA;\n",
              "      box-shadow: 0px 1px 2px rgba(60, 64, 67, 0.3), 0px 1px 3px 1px rgba(60, 64, 67, 0.15);\n",
              "      fill: #174EA6;\n",
              "    }\n",
              "\n",
              "    .colab-df-buttons div {\n",
              "      margin-bottom: 4px;\n",
              "    }\n",
              "\n",
              "    [theme=dark] .colab-df-convert {\n",
              "      background-color: #3B4455;\n",
              "      fill: #D2E3FC;\n",
              "    }\n",
              "\n",
              "    [theme=dark] .colab-df-convert:hover {\n",
              "      background-color: #434B5C;\n",
              "      box-shadow: 0px 1px 3px 1px rgba(0, 0, 0, 0.15);\n",
              "      filter: drop-shadow(0px 1px 2px rgba(0, 0, 0, 0.3));\n",
              "      fill: #FFFFFF;\n",
              "    }\n",
              "  </style>\n",
              "\n",
              "    <script>\n",
              "      const buttonEl =\n",
              "        document.querySelector('#df-8c1be278-8478-45d7-857c-f2def3a0a3ba button.colab-df-convert');\n",
              "      buttonEl.style.display =\n",
              "        google.colab.kernel.accessAllowed ? 'block' : 'none';\n",
              "\n",
              "      async function convertToInteractive(key) {\n",
              "        const element = document.querySelector('#df-8c1be278-8478-45d7-857c-f2def3a0a3ba');\n",
              "        const dataTable =\n",
              "          await google.colab.kernel.invokeFunction('convertToInteractive',\n",
              "                                                    [key], {});\n",
              "        if (!dataTable) return;\n",
              "\n",
              "        const docLinkHtml = 'Like what you see? Visit the ' +\n",
              "          '<a target=\"_blank\" href=https://colab.research.google.com/notebooks/data_table.ipynb>data table notebook</a>'\n",
              "          + ' to learn more about interactive tables.';\n",
              "        element.innerHTML = '';\n",
              "        dataTable['output_type'] = 'display_data';\n",
              "        await google.colab.output.renderOutput(dataTable, element);\n",
              "        const docLink = document.createElement('div');\n",
              "        docLink.innerHTML = docLinkHtml;\n",
              "        element.appendChild(docLink);\n",
              "      }\n",
              "    </script>\n",
              "  </div>\n",
              "\n",
              "\n",
              "<div id=\"df-18143a94-99bf-413f-b6a3-d7e66e6f63a5\">\n",
              "  <button class=\"colab-df-quickchart\" onclick=\"quickchart('df-18143a94-99bf-413f-b6a3-d7e66e6f63a5')\"\n",
              "            title=\"Suggest charts\"\n",
              "            style=\"display:none;\">\n",
              "\n",
              "<svg xmlns=\"http://www.w3.org/2000/svg\" height=\"24px\"viewBox=\"0 0 24 24\"\n",
              "     width=\"24px\">\n",
              "    <g>\n",
              "        <path d=\"M19 3H5c-1.1 0-2 .9-2 2v14c0 1.1.9 2 2 2h14c1.1 0 2-.9 2-2V5c0-1.1-.9-2-2-2zM9 17H7v-7h2v7zm4 0h-2V7h2v10zm4 0h-2v-4h2v4z\"/>\n",
              "    </g>\n",
              "</svg>\n",
              "  </button>\n",
              "\n",
              "<style>\n",
              "  .colab-df-quickchart {\n",
              "      --bg-color: #E8F0FE;\n",
              "      --fill-color: #1967D2;\n",
              "      --hover-bg-color: #E2EBFA;\n",
              "      --hover-fill-color: #174EA6;\n",
              "      --disabled-fill-color: #AAA;\n",
              "      --disabled-bg-color: #DDD;\n",
              "  }\n",
              "\n",
              "  [theme=dark] .colab-df-quickchart {\n",
              "      --bg-color: #3B4455;\n",
              "      --fill-color: #D2E3FC;\n",
              "      --hover-bg-color: #434B5C;\n",
              "      --hover-fill-color: #FFFFFF;\n",
              "      --disabled-bg-color: #3B4455;\n",
              "      --disabled-fill-color: #666;\n",
              "  }\n",
              "\n",
              "  .colab-df-quickchart {\n",
              "    background-color: var(--bg-color);\n",
              "    border: none;\n",
              "    border-radius: 50%;\n",
              "    cursor: pointer;\n",
              "    display: none;\n",
              "    fill: var(--fill-color);\n",
              "    height: 32px;\n",
              "    padding: 0;\n",
              "    width: 32px;\n",
              "  }\n",
              "\n",
              "  .colab-df-quickchart:hover {\n",
              "    background-color: var(--hover-bg-color);\n",
              "    box-shadow: 0 1px 2px rgba(60, 64, 67, 0.3), 0 1px 3px 1px rgba(60, 64, 67, 0.15);\n",
              "    fill: var(--button-hover-fill-color);\n",
              "  }\n",
              "\n",
              "  .colab-df-quickchart-complete:disabled,\n",
              "  .colab-df-quickchart-complete:disabled:hover {\n",
              "    background-color: var(--disabled-bg-color);\n",
              "    fill: var(--disabled-fill-color);\n",
              "    box-shadow: none;\n",
              "  }\n",
              "\n",
              "  .colab-df-spinner {\n",
              "    border: 2px solid var(--fill-color);\n",
              "    border-color: transparent;\n",
              "    border-bottom-color: var(--fill-color);\n",
              "    animation:\n",
              "      spin 1s steps(1) infinite;\n",
              "  }\n",
              "\n",
              "  @keyframes spin {\n",
              "    0% {\n",
              "      border-color: transparent;\n",
              "      border-bottom-color: var(--fill-color);\n",
              "      border-left-color: var(--fill-color);\n",
              "    }\n",
              "    20% {\n",
              "      border-color: transparent;\n",
              "      border-left-color: var(--fill-color);\n",
              "      border-top-color: var(--fill-color);\n",
              "    }\n",
              "    30% {\n",
              "      border-color: transparent;\n",
              "      border-left-color: var(--fill-color);\n",
              "      border-top-color: var(--fill-color);\n",
              "      border-right-color: var(--fill-color);\n",
              "    }\n",
              "    40% {\n",
              "      border-color: transparent;\n",
              "      border-right-color: var(--fill-color);\n",
              "      border-top-color: var(--fill-color);\n",
              "    }\n",
              "    60% {\n",
              "      border-color: transparent;\n",
              "      border-right-color: var(--fill-color);\n",
              "    }\n",
              "    80% {\n",
              "      border-color: transparent;\n",
              "      border-right-color: var(--fill-color);\n",
              "      border-bottom-color: var(--fill-color);\n",
              "    }\n",
              "    90% {\n",
              "      border-color: transparent;\n",
              "      border-bottom-color: var(--fill-color);\n",
              "    }\n",
              "  }\n",
              "</style>\n",
              "\n",
              "  <script>\n",
              "    async function quickchart(key) {\n",
              "      const quickchartButtonEl =\n",
              "        document.querySelector('#' + key + ' button');\n",
              "      quickchartButtonEl.disabled = true;  // To prevent multiple clicks.\n",
              "      quickchartButtonEl.classList.add('colab-df-spinner');\n",
              "      try {\n",
              "        const charts = await google.colab.kernel.invokeFunction(\n",
              "            'suggestCharts', [key], {});\n",
              "      } catch (error) {\n",
              "        console.error('Error during call to suggestCharts:', error);\n",
              "      }\n",
              "      quickchartButtonEl.classList.remove('colab-df-spinner');\n",
              "      quickchartButtonEl.classList.add('colab-df-quickchart-complete');\n",
              "    }\n",
              "    (() => {\n",
              "      let quickchartButtonEl =\n",
              "        document.querySelector('#df-18143a94-99bf-413f-b6a3-d7e66e6f63a5 button');\n",
              "      quickchartButtonEl.style.display =\n",
              "        google.colab.kernel.accessAllowed ? 'block' : 'none';\n",
              "    })();\n",
              "  </script>\n",
              "</div>\n",
              "    </div>\n",
              "  </div>\n"
            ],
            "application/vnd.google.colaboratory.intrinsic+json": {
              "type": "dataframe",
              "variable_name": "movies",
              "summary": "{\n  \"name\": \"movies\",\n  \"rows\": 7668,\n  \"fields\": [\n    {\n      \"column\": \"name\",\n      \"properties\": {\n        \"dtype\": \"string\",\n        \"num_unique_values\": 7512,\n        \"samples\": [\n          \"Blade: Trinity\",\n          \"The Book of Eli\",\n          \"Broken Flowers\"\n        ],\n        \"semantic_type\": \"\",\n        \"description\": \"\"\n      }\n    },\n    {\n      \"column\": \"rating\",\n      \"properties\": {\n        \"dtype\": \"category\",\n        \"num_unique_values\": 12,\n        \"samples\": [\n          \"TV-MA\",\n          \"X\",\n          \"R\"\n        ],\n        \"semantic_type\": \"\",\n        \"description\": \"\"\n      }\n    },\n    {\n      \"column\": \"genre\",\n      \"properties\": {\n        \"dtype\": \"category\",\n        \"num_unique_values\": 19,\n        \"samples\": [\n          \"Drama\",\n          \"Biography\",\n          \"Romance\"\n        ],\n        \"semantic_type\": \"\",\n        \"description\": \"\"\n      }\n    },\n    {\n      \"column\": \"year\",\n      \"properties\": {\n        \"dtype\": \"number\",\n        \"std\": 11,\n        \"min\": 1980,\n        \"max\": 2020,\n        \"num_unique_values\": 41,\n        \"samples\": [\n          2004,\n          1993,\n          1988\n        ],\n        \"semantic_type\": \"\",\n        \"description\": \"\"\n      }\n    },\n    {\n      \"column\": \"released\",\n      \"properties\": {\n        \"dtype\": \"category\",\n        \"num_unique_values\": 3414,\n        \"samples\": [\n          \"December 3, 2004 (Italy)\",\n          \"February 28, 2003 (United States)\",\n          \"October 6, 1982 (United States)\"\n        ],\n        \"semantic_type\": \"\",\n        \"description\": \"\"\n      }\n    },\n    {\n      \"column\": \"score\",\n      \"properties\": {\n        \"dtype\": \"number\",\n        \"std\": 0.9688416402530576,\n        \"min\": 1.9,\n        \"max\": 9.3,\n        \"num_unique_values\": 72,\n        \"samples\": [\n          7.3,\n          9.3,\n          5.0\n        ],\n        \"semantic_type\": \"\",\n        \"description\": \"\"\n      }\n    },\n    {\n      \"column\": \"votes\",\n      \"properties\": {\n        \"dtype\": \"number\",\n        \"std\": 163323.7639095057,\n        \"min\": 7.0,\n        \"max\": 2400000.0,\n        \"num_unique_values\": 936,\n        \"samples\": [\n          128.0,\n          740.0,\n          115.0\n        ],\n        \"semantic_type\": \"\",\n        \"description\": \"\"\n      }\n    },\n    {\n      \"column\": \"director\",\n      \"properties\": {\n        \"dtype\": \"category\",\n        \"num_unique_values\": 2949,\n        \"samples\": [\n          \"Phillip Noyce\",\n          \"Bruce Paltrow\",\n          \"Camille Delamarre\"\n        ],\n        \"semantic_type\": \"\",\n        \"description\": \"\"\n      }\n    },\n    {\n      \"column\": \"writer\",\n      \"properties\": {\n        \"dtype\": \"string\",\n        \"num_unique_values\": 4535,\n        \"samples\": [\n          \"Gene Taft\",\n          \"Mitchell Kriegman\",\n          \"Justin Marks\"\n        ],\n        \"semantic_type\": \"\",\n        \"description\": \"\"\n      }\n    },\n    {\n      \"column\": \"star\",\n      \"properties\": {\n        \"dtype\": \"category\",\n        \"num_unique_values\": 2814,\n        \"samples\": [\n          \"Kurt McKinney\",\n          \"You Ge\",\n          \"Lisa Donaldson\"\n        ],\n        \"semantic_type\": \"\",\n        \"description\": \"\"\n      }\n    },\n    {\n      \"column\": \"country\",\n      \"properties\": {\n        \"dtype\": \"category\",\n        \"num_unique_values\": 59,\n        \"samples\": [\n          \"United Kingdom\",\n          \"Australia\",\n          \"Vietnam\"\n        ],\n        \"semantic_type\": \"\",\n        \"description\": \"\"\n      }\n    },\n    {\n      \"column\": \"budget\",\n      \"properties\": {\n        \"dtype\": \"number\",\n        \"std\": 41457296.60193096,\n        \"min\": 3000.0,\n        \"max\": 356000000.0,\n        \"num_unique_values\": 413,\n        \"samples\": [\n          321000000.0,\n          209000000.0,\n          11400000.0\n        ],\n        \"semantic_type\": \"\",\n        \"description\": \"\"\n      }\n    },\n    {\n      \"column\": \"gross\",\n      \"properties\": {\n        \"dtype\": \"number\",\n        \"std\": 165725124.31875733,\n        \"min\": 309.0,\n        \"max\": 2847246203.0,\n        \"num_unique_values\": 7472,\n        \"samples\": [\n          11098131.0,\n          1839623.0,\n          1482316.0\n        ],\n        \"semantic_type\": \"\",\n        \"description\": \"\"\n      }\n    },\n    {\n      \"column\": \"company\",\n      \"properties\": {\n        \"dtype\": \"category\",\n        \"num_unique_values\": 2385,\n        \"samples\": [\n          \"Casey Silver Productions\",\n          \"Path\\u00e9 Renn Productions\",\n          \"Engine Film\"\n        ],\n        \"semantic_type\": \"\",\n        \"description\": \"\"\n      }\n    },\n    {\n      \"column\": \"runtime\",\n      \"properties\": {\n        \"dtype\": \"number\",\n        \"std\": 18.581247313480592,\n        \"min\": 55.0,\n        \"max\": 366.0,\n        \"num_unique_values\": 138,\n        \"samples\": [\n          144.0,\n          238.0,\n          114.0\n        ],\n        \"semantic_type\": \"\",\n        \"description\": \"\"\n      }\n    }\n  ]\n}"
            }
          },
          "metadata": {},
          "execution_count": 5
        }
      ],
      "source": [
        "movies = pd.read_csv('https://raw.githubusercontent.com/ThomasFurtado/Movies-Dataset-IMDb/refs/heads/main/movies.csv')\n",
        "movies"
      ]
    },
    {
      "cell_type": "markdown",
      "metadata": {
        "id": "IuUDNhFrlBlQ"
      },
      "source": [
        "This is a really good data set, but I need to do some filtering first to prevent any errors further down the road."
      ]
    },
    {
      "cell_type": "code",
      "execution_count": 38,
      "metadata": {
        "colab": {
          "base_uri": "https://localhost:8080/",
          "height": 964
        },
        "id": "63o7H654lANb",
        "outputId": "bf97bd5e-b206-40b7-a1b1-8ff4301c7d21"
      },
      "outputs": [
        {
          "output_type": "execute_result",
          "data": {
            "text/plain": [
              "                                       name rating      genre  year  \\\n",
              "3843  Harry Potter and the Sorcerer's Stone     PG  Adventure  2001   \n",
              "3844               The Fast and the Furious  PG-13     Action  2001   \n",
              "3846                         Legally Blonde  PG-13     Comedy  2001   \n",
              "3848                         Monsters, Inc.      G  Animation  2001   \n",
              "3850                           Donnie Darko      R      Drama  2001   \n",
              "...                                     ...    ...        ...   ...   \n",
              "7643                                  Tenet  PG-13     Action  2020   \n",
              "7645                          Birds of Prey      R     Action  2020   \n",
              "7648                      Bad Boys for Life      R     Action  2020   \n",
              "7649                     Sonic the Hedgehog     PG     Action  2020   \n",
              "7650                               Dolittle     PG  Adventure  2020   \n",
              "\n",
              "                               released  score     votes           director  \\\n",
              "3843  November 16, 2001 (United States)    7.6  685000.0     Chris Columbus   \n",
              "3844      June 22, 2001 (United States)    6.8  362000.0          Rob Cohen   \n",
              "3846      July 13, 2001 (United States)    6.3  195000.0     Robert Luketic   \n",
              "3848   November 2, 2001 (United States)    8.1  838000.0        Pete Docter   \n",
              "3850          January 19, 2001 (Mexico)    8.0  755000.0      Richard Kelly   \n",
              "...                                 ...    ...       ...                ...   \n",
              "7643  September 3, 2020 (United States)    7.4  387000.0  Christopher Nolan   \n",
              "7645   February 7, 2020 (United States)    6.1  190000.0          Cathy Yan   \n",
              "7648   January 17, 2020 (United States)    6.6  140000.0       Adil El Arbi   \n",
              "7649  February 14, 2020 (United States)    6.5  102000.0        Jeff Fowler   \n",
              "7650   January 17, 2020 (United States)    5.6   53000.0     Stephen Gaghan   \n",
              "\n",
              "                 writer                   star         country       budget  \\\n",
              "3843       J.K. Rowling       Daniel Radcliffe  United Kingdom  125000000.0   \n",
              "3844             Ken Li             Vin Diesel   United States   38000000.0   \n",
              "3846       Amanda Brown      Reese Witherspoon   United States   18000000.0   \n",
              "3848        Pete Docter          Billy Crystal   United States  115000000.0   \n",
              "3850      Richard Kelly        Jake Gyllenhaal   United States    6000000.0   \n",
              "...                 ...                    ...             ...          ...   \n",
              "7643  Christopher Nolan  John David Washington   United States  205000000.0   \n",
              "7645   Christina Hodson          Margot Robbie   United States   84500000.0   \n",
              "7648        Peter Craig             Will Smith   United States   90000000.0   \n",
              "7649          Pat Casey           Ben Schwartz   United States   85000000.0   \n",
              "7650     Stephen Gaghan      Robert Downey Jr.   United States  175000000.0   \n",
              "\n",
              "             gross                    company  runtime  \n",
              "3843  1.006968e+09               Warner Bros.    152.0  \n",
              "3844  2.073055e+08         Universal Pictures    106.0  \n",
              "3846  1.417747e+08  Metro-Goldwyn-Mayer (MGM)     96.0  \n",
              "3848  5.797077e+08    Pixar Animation Studios     92.0  \n",
              "3850  6.981586e+06             Pandora Cinema    113.0  \n",
              "...            ...                        ...      ...  \n",
              "7643  3.636566e+08               Warner Bros.    150.0  \n",
              "7645  2.018585e+08    Clubhouse Pictures (II)    109.0  \n",
              "7648  4.265052e+08          Columbia Pictures    124.0  \n",
              "7649  3.197157e+08         Paramount Pictures     99.0  \n",
              "7650  2.454878e+08         Universal Pictures    101.0  \n",
              "\n",
              "[2598 rows x 15 columns]"
            ],
            "text/html": [
              "\n",
              "  <div id=\"df-70aaa1fb-2ffa-413c-92b7-1be8a0dec66d\" class=\"colab-df-container\">\n",
              "    <div>\n",
              "<style scoped>\n",
              "    .dataframe tbody tr th:only-of-type {\n",
              "        vertical-align: middle;\n",
              "    }\n",
              "\n",
              "    .dataframe tbody tr th {\n",
              "        vertical-align: top;\n",
              "    }\n",
              "\n",
              "    .dataframe thead th {\n",
              "        text-align: right;\n",
              "    }\n",
              "</style>\n",
              "<table border=\"1\" class=\"dataframe\">\n",
              "  <thead>\n",
              "    <tr style=\"text-align: right;\">\n",
              "      <th></th>\n",
              "      <th>name</th>\n",
              "      <th>rating</th>\n",
              "      <th>genre</th>\n",
              "      <th>year</th>\n",
              "      <th>released</th>\n",
              "      <th>score</th>\n",
              "      <th>votes</th>\n",
              "      <th>director</th>\n",
              "      <th>writer</th>\n",
              "      <th>star</th>\n",
              "      <th>country</th>\n",
              "      <th>budget</th>\n",
              "      <th>gross</th>\n",
              "      <th>company</th>\n",
              "      <th>runtime</th>\n",
              "    </tr>\n",
              "  </thead>\n",
              "  <tbody>\n",
              "    <tr>\n",
              "      <th>3843</th>\n",
              "      <td>Harry Potter and the Sorcerer's Stone</td>\n",
              "      <td>PG</td>\n",
              "      <td>Adventure</td>\n",
              "      <td>2001</td>\n",
              "      <td>November 16, 2001 (United States)</td>\n",
              "      <td>7.6</td>\n",
              "      <td>685000.0</td>\n",
              "      <td>Chris Columbus</td>\n",
              "      <td>J.K. Rowling</td>\n",
              "      <td>Daniel Radcliffe</td>\n",
              "      <td>United Kingdom</td>\n",
              "      <td>125000000.0</td>\n",
              "      <td>1.006968e+09</td>\n",
              "      <td>Warner Bros.</td>\n",
              "      <td>152.0</td>\n",
              "    </tr>\n",
              "    <tr>\n",
              "      <th>3844</th>\n",
              "      <td>The Fast and the Furious</td>\n",
              "      <td>PG-13</td>\n",
              "      <td>Action</td>\n",
              "      <td>2001</td>\n",
              "      <td>June 22, 2001 (United States)</td>\n",
              "      <td>6.8</td>\n",
              "      <td>362000.0</td>\n",
              "      <td>Rob Cohen</td>\n",
              "      <td>Ken Li</td>\n",
              "      <td>Vin Diesel</td>\n",
              "      <td>United States</td>\n",
              "      <td>38000000.0</td>\n",
              "      <td>2.073055e+08</td>\n",
              "      <td>Universal Pictures</td>\n",
              "      <td>106.0</td>\n",
              "    </tr>\n",
              "    <tr>\n",
              "      <th>3846</th>\n",
              "      <td>Legally Blonde</td>\n",
              "      <td>PG-13</td>\n",
              "      <td>Comedy</td>\n",
              "      <td>2001</td>\n",
              "      <td>July 13, 2001 (United States)</td>\n",
              "      <td>6.3</td>\n",
              "      <td>195000.0</td>\n",
              "      <td>Robert Luketic</td>\n",
              "      <td>Amanda Brown</td>\n",
              "      <td>Reese Witherspoon</td>\n",
              "      <td>United States</td>\n",
              "      <td>18000000.0</td>\n",
              "      <td>1.417747e+08</td>\n",
              "      <td>Metro-Goldwyn-Mayer (MGM)</td>\n",
              "      <td>96.0</td>\n",
              "    </tr>\n",
              "    <tr>\n",
              "      <th>3848</th>\n",
              "      <td>Monsters, Inc.</td>\n",
              "      <td>G</td>\n",
              "      <td>Animation</td>\n",
              "      <td>2001</td>\n",
              "      <td>November 2, 2001 (United States)</td>\n",
              "      <td>8.1</td>\n",
              "      <td>838000.0</td>\n",
              "      <td>Pete Docter</td>\n",
              "      <td>Pete Docter</td>\n",
              "      <td>Billy Crystal</td>\n",
              "      <td>United States</td>\n",
              "      <td>115000000.0</td>\n",
              "      <td>5.797077e+08</td>\n",
              "      <td>Pixar Animation Studios</td>\n",
              "      <td>92.0</td>\n",
              "    </tr>\n",
              "    <tr>\n",
              "      <th>3850</th>\n",
              "      <td>Donnie Darko</td>\n",
              "      <td>R</td>\n",
              "      <td>Drama</td>\n",
              "      <td>2001</td>\n",
              "      <td>January 19, 2001 (Mexico)</td>\n",
              "      <td>8.0</td>\n",
              "      <td>755000.0</td>\n",
              "      <td>Richard Kelly</td>\n",
              "      <td>Richard Kelly</td>\n",
              "      <td>Jake Gyllenhaal</td>\n",
              "      <td>United States</td>\n",
              "      <td>6000000.0</td>\n",
              "      <td>6.981586e+06</td>\n",
              "      <td>Pandora Cinema</td>\n",
              "      <td>113.0</td>\n",
              "    </tr>\n",
              "    <tr>\n",
              "      <th>...</th>\n",
              "      <td>...</td>\n",
              "      <td>...</td>\n",
              "      <td>...</td>\n",
              "      <td>...</td>\n",
              "      <td>...</td>\n",
              "      <td>...</td>\n",
              "      <td>...</td>\n",
              "      <td>...</td>\n",
              "      <td>...</td>\n",
              "      <td>...</td>\n",
              "      <td>...</td>\n",
              "      <td>...</td>\n",
              "      <td>...</td>\n",
              "      <td>...</td>\n",
              "      <td>...</td>\n",
              "    </tr>\n",
              "    <tr>\n",
              "      <th>7643</th>\n",
              "      <td>Tenet</td>\n",
              "      <td>PG-13</td>\n",
              "      <td>Action</td>\n",
              "      <td>2020</td>\n",
              "      <td>September 3, 2020 (United States)</td>\n",
              "      <td>7.4</td>\n",
              "      <td>387000.0</td>\n",
              "      <td>Christopher Nolan</td>\n",
              "      <td>Christopher Nolan</td>\n",
              "      <td>John David Washington</td>\n",
              "      <td>United States</td>\n",
              "      <td>205000000.0</td>\n",
              "      <td>3.636566e+08</td>\n",
              "      <td>Warner Bros.</td>\n",
              "      <td>150.0</td>\n",
              "    </tr>\n",
              "    <tr>\n",
              "      <th>7645</th>\n",
              "      <td>Birds of Prey</td>\n",
              "      <td>R</td>\n",
              "      <td>Action</td>\n",
              "      <td>2020</td>\n",
              "      <td>February 7, 2020 (United States)</td>\n",
              "      <td>6.1</td>\n",
              "      <td>190000.0</td>\n",
              "      <td>Cathy Yan</td>\n",
              "      <td>Christina Hodson</td>\n",
              "      <td>Margot Robbie</td>\n",
              "      <td>United States</td>\n",
              "      <td>84500000.0</td>\n",
              "      <td>2.018585e+08</td>\n",
              "      <td>Clubhouse Pictures (II)</td>\n",
              "      <td>109.0</td>\n",
              "    </tr>\n",
              "    <tr>\n",
              "      <th>7648</th>\n",
              "      <td>Bad Boys for Life</td>\n",
              "      <td>R</td>\n",
              "      <td>Action</td>\n",
              "      <td>2020</td>\n",
              "      <td>January 17, 2020 (United States)</td>\n",
              "      <td>6.6</td>\n",
              "      <td>140000.0</td>\n",
              "      <td>Adil El Arbi</td>\n",
              "      <td>Peter Craig</td>\n",
              "      <td>Will Smith</td>\n",
              "      <td>United States</td>\n",
              "      <td>90000000.0</td>\n",
              "      <td>4.265052e+08</td>\n",
              "      <td>Columbia Pictures</td>\n",
              "      <td>124.0</td>\n",
              "    </tr>\n",
              "    <tr>\n",
              "      <th>7649</th>\n",
              "      <td>Sonic the Hedgehog</td>\n",
              "      <td>PG</td>\n",
              "      <td>Action</td>\n",
              "      <td>2020</td>\n",
              "      <td>February 14, 2020 (United States)</td>\n",
              "      <td>6.5</td>\n",
              "      <td>102000.0</td>\n",
              "      <td>Jeff Fowler</td>\n",
              "      <td>Pat Casey</td>\n",
              "      <td>Ben Schwartz</td>\n",
              "      <td>United States</td>\n",
              "      <td>85000000.0</td>\n",
              "      <td>3.197157e+08</td>\n",
              "      <td>Paramount Pictures</td>\n",
              "      <td>99.0</td>\n",
              "    </tr>\n",
              "    <tr>\n",
              "      <th>7650</th>\n",
              "      <td>Dolittle</td>\n",
              "      <td>PG</td>\n",
              "      <td>Adventure</td>\n",
              "      <td>2020</td>\n",
              "      <td>January 17, 2020 (United States)</td>\n",
              "      <td>5.6</td>\n",
              "      <td>53000.0</td>\n",
              "      <td>Stephen Gaghan</td>\n",
              "      <td>Stephen Gaghan</td>\n",
              "      <td>Robert Downey Jr.</td>\n",
              "      <td>United States</td>\n",
              "      <td>175000000.0</td>\n",
              "      <td>2.454878e+08</td>\n",
              "      <td>Universal Pictures</td>\n",
              "      <td>101.0</td>\n",
              "    </tr>\n",
              "  </tbody>\n",
              "</table>\n",
              "<p>2598 rows × 15 columns</p>\n",
              "</div>\n",
              "    <div class=\"colab-df-buttons\">\n",
              "\n",
              "  <div class=\"colab-df-container\">\n",
              "    <button class=\"colab-df-convert\" onclick=\"convertToInteractive('df-70aaa1fb-2ffa-413c-92b7-1be8a0dec66d')\"\n",
              "            title=\"Convert this dataframe to an interactive table.\"\n",
              "            style=\"display:none;\">\n",
              "\n",
              "  <svg xmlns=\"http://www.w3.org/2000/svg\" height=\"24px\" viewBox=\"0 -960 960 960\">\n",
              "    <path d=\"M120-120v-720h720v720H120Zm60-500h600v-160H180v160Zm220 220h160v-160H400v160Zm0 220h160v-160H400v160ZM180-400h160v-160H180v160Zm440 0h160v-160H620v160ZM180-180h160v-160H180v160Zm440 0h160v-160H620v160Z\"/>\n",
              "  </svg>\n",
              "    </button>\n",
              "\n",
              "  <style>\n",
              "    .colab-df-container {\n",
              "      display:flex;\n",
              "      gap: 12px;\n",
              "    }\n",
              "\n",
              "    .colab-df-convert {\n",
              "      background-color: #E8F0FE;\n",
              "      border: none;\n",
              "      border-radius: 50%;\n",
              "      cursor: pointer;\n",
              "      display: none;\n",
              "      fill: #1967D2;\n",
              "      height: 32px;\n",
              "      padding: 0 0 0 0;\n",
              "      width: 32px;\n",
              "    }\n",
              "\n",
              "    .colab-df-convert:hover {\n",
              "      background-color: #E2EBFA;\n",
              "      box-shadow: 0px 1px 2px rgba(60, 64, 67, 0.3), 0px 1px 3px 1px rgba(60, 64, 67, 0.15);\n",
              "      fill: #174EA6;\n",
              "    }\n",
              "\n",
              "    .colab-df-buttons div {\n",
              "      margin-bottom: 4px;\n",
              "    }\n",
              "\n",
              "    [theme=dark] .colab-df-convert {\n",
              "      background-color: #3B4455;\n",
              "      fill: #D2E3FC;\n",
              "    }\n",
              "\n",
              "    [theme=dark] .colab-df-convert:hover {\n",
              "      background-color: #434B5C;\n",
              "      box-shadow: 0px 1px 3px 1px rgba(0, 0, 0, 0.15);\n",
              "      filter: drop-shadow(0px 1px 2px rgba(0, 0, 0, 0.3));\n",
              "      fill: #FFFFFF;\n",
              "    }\n",
              "  </style>\n",
              "\n",
              "    <script>\n",
              "      const buttonEl =\n",
              "        document.querySelector('#df-70aaa1fb-2ffa-413c-92b7-1be8a0dec66d button.colab-df-convert');\n",
              "      buttonEl.style.display =\n",
              "        google.colab.kernel.accessAllowed ? 'block' : 'none';\n",
              "\n",
              "      async function convertToInteractive(key) {\n",
              "        const element = document.querySelector('#df-70aaa1fb-2ffa-413c-92b7-1be8a0dec66d');\n",
              "        const dataTable =\n",
              "          await google.colab.kernel.invokeFunction('convertToInteractive',\n",
              "                                                    [key], {});\n",
              "        if (!dataTable) return;\n",
              "\n",
              "        const docLinkHtml = 'Like what you see? Visit the ' +\n",
              "          '<a target=\"_blank\" href=https://colab.research.google.com/notebooks/data_table.ipynb>data table notebook</a>'\n",
              "          + ' to learn more about interactive tables.';\n",
              "        element.innerHTML = '';\n",
              "        dataTable['output_type'] = 'display_data';\n",
              "        await google.colab.output.renderOutput(dataTable, element);\n",
              "        const docLink = document.createElement('div');\n",
              "        docLink.innerHTML = docLinkHtml;\n",
              "        element.appendChild(docLink);\n",
              "      }\n",
              "    </script>\n",
              "  </div>\n",
              "\n",
              "\n",
              "<div id=\"df-272a102d-cdbf-4c36-9942-0e33d7701a91\">\n",
              "  <button class=\"colab-df-quickchart\" onclick=\"quickchart('df-272a102d-cdbf-4c36-9942-0e33d7701a91')\"\n",
              "            title=\"Suggest charts\"\n",
              "            style=\"display:none;\">\n",
              "\n",
              "<svg xmlns=\"http://www.w3.org/2000/svg\" height=\"24px\"viewBox=\"0 0 24 24\"\n",
              "     width=\"24px\">\n",
              "    <g>\n",
              "        <path d=\"M19 3H5c-1.1 0-2 .9-2 2v14c0 1.1.9 2 2 2h14c1.1 0 2-.9 2-2V5c0-1.1-.9-2-2-2zM9 17H7v-7h2v7zm4 0h-2V7h2v10zm4 0h-2v-4h2v4z\"/>\n",
              "    </g>\n",
              "</svg>\n",
              "  </button>\n",
              "\n",
              "<style>\n",
              "  .colab-df-quickchart {\n",
              "      --bg-color: #E8F0FE;\n",
              "      --fill-color: #1967D2;\n",
              "      --hover-bg-color: #E2EBFA;\n",
              "      --hover-fill-color: #174EA6;\n",
              "      --disabled-fill-color: #AAA;\n",
              "      --disabled-bg-color: #DDD;\n",
              "  }\n",
              "\n",
              "  [theme=dark] .colab-df-quickchart {\n",
              "      --bg-color: #3B4455;\n",
              "      --fill-color: #D2E3FC;\n",
              "      --hover-bg-color: #434B5C;\n",
              "      --hover-fill-color: #FFFFFF;\n",
              "      --disabled-bg-color: #3B4455;\n",
              "      --disabled-fill-color: #666;\n",
              "  }\n",
              "\n",
              "  .colab-df-quickchart {\n",
              "    background-color: var(--bg-color);\n",
              "    border: none;\n",
              "    border-radius: 50%;\n",
              "    cursor: pointer;\n",
              "    display: none;\n",
              "    fill: var(--fill-color);\n",
              "    height: 32px;\n",
              "    padding: 0;\n",
              "    width: 32px;\n",
              "  }\n",
              "\n",
              "  .colab-df-quickchart:hover {\n",
              "    background-color: var(--hover-bg-color);\n",
              "    box-shadow: 0 1px 2px rgba(60, 64, 67, 0.3), 0 1px 3px 1px rgba(60, 64, 67, 0.15);\n",
              "    fill: var(--button-hover-fill-color);\n",
              "  }\n",
              "\n",
              "  .colab-df-quickchart-complete:disabled,\n",
              "  .colab-df-quickchart-complete:disabled:hover {\n",
              "    background-color: var(--disabled-bg-color);\n",
              "    fill: var(--disabled-fill-color);\n",
              "    box-shadow: none;\n",
              "  }\n",
              "\n",
              "  .colab-df-spinner {\n",
              "    border: 2px solid var(--fill-color);\n",
              "    border-color: transparent;\n",
              "    border-bottom-color: var(--fill-color);\n",
              "    animation:\n",
              "      spin 1s steps(1) infinite;\n",
              "  }\n",
              "\n",
              "  @keyframes spin {\n",
              "    0% {\n",
              "      border-color: transparent;\n",
              "      border-bottom-color: var(--fill-color);\n",
              "      border-left-color: var(--fill-color);\n",
              "    }\n",
              "    20% {\n",
              "      border-color: transparent;\n",
              "      border-left-color: var(--fill-color);\n",
              "      border-top-color: var(--fill-color);\n",
              "    }\n",
              "    30% {\n",
              "      border-color: transparent;\n",
              "      border-left-color: var(--fill-color);\n",
              "      border-top-color: var(--fill-color);\n",
              "      border-right-color: var(--fill-color);\n",
              "    }\n",
              "    40% {\n",
              "      border-color: transparent;\n",
              "      border-right-color: var(--fill-color);\n",
              "      border-top-color: var(--fill-color);\n",
              "    }\n",
              "    60% {\n",
              "      border-color: transparent;\n",
              "      border-right-color: var(--fill-color);\n",
              "    }\n",
              "    80% {\n",
              "      border-color: transparent;\n",
              "      border-right-color: var(--fill-color);\n",
              "      border-bottom-color: var(--fill-color);\n",
              "    }\n",
              "    90% {\n",
              "      border-color: transparent;\n",
              "      border-bottom-color: var(--fill-color);\n",
              "    }\n",
              "  }\n",
              "</style>\n",
              "\n",
              "  <script>\n",
              "    async function quickchart(key) {\n",
              "      const quickchartButtonEl =\n",
              "        document.querySelector('#' + key + ' button');\n",
              "      quickchartButtonEl.disabled = true;  // To prevent multiple clicks.\n",
              "      quickchartButtonEl.classList.add('colab-df-spinner');\n",
              "      try {\n",
              "        const charts = await google.colab.kernel.invokeFunction(\n",
              "            'suggestCharts', [key], {});\n",
              "      } catch (error) {\n",
              "        console.error('Error during call to suggestCharts:', error);\n",
              "      }\n",
              "      quickchartButtonEl.classList.remove('colab-df-spinner');\n",
              "      quickchartButtonEl.classList.add('colab-df-quickchart-complete');\n",
              "    }\n",
              "    (() => {\n",
              "      let quickchartButtonEl =\n",
              "        document.querySelector('#df-272a102d-cdbf-4c36-9942-0e33d7701a91 button');\n",
              "      quickchartButtonEl.style.display =\n",
              "        google.colab.kernel.accessAllowed ? 'block' : 'none';\n",
              "    })();\n",
              "  </script>\n",
              "</div>\n",
              "    </div>\n",
              "  </div>\n"
            ],
            "application/vnd.google.colaboratory.intrinsic+json": {
              "type": "dataframe",
              "variable_name": "movies",
              "summary": "{\n  \"name\": \"movies\",\n  \"rows\": 2598,\n  \"fields\": [\n    {\n      \"column\": \"name\",\n      \"properties\": {\n        \"dtype\": \"string\",\n        \"num_unique_values\": 2590,\n        \"samples\": [\n          \"Cloudy with a Chance of Meatballs\",\n          \"The International\",\n          \"Breakthrough\"\n        ],\n        \"semantic_type\": \"\",\n        \"description\": \"\"\n      }\n    },\n    {\n      \"column\": \"rating\",\n      \"properties\": {\n        \"dtype\": \"category\",\n        \"num_unique_values\": 4,\n        \"samples\": [\n          \"PG-13\",\n          \"R\",\n          \"PG\"\n        ],\n        \"semantic_type\": \"\",\n        \"description\": \"\"\n      }\n    },\n    {\n      \"column\": \"genre\",\n      \"properties\": {\n        \"dtype\": \"category\",\n        \"num_unique_values\": 14,\n        \"samples\": [\n          \"Mystery\",\n          \"Thriller\",\n          \"Adventure\"\n        ],\n        \"semantic_type\": \"\",\n        \"description\": \"\"\n      }\n    },\n    {\n      \"column\": \"year\",\n      \"properties\": {\n        \"dtype\": \"number\",\n        \"std\": 5,\n        \"min\": 2001,\n        \"max\": 2020,\n        \"num_unique_values\": 20,\n        \"samples\": [\n          2001,\n          2018,\n          2016\n        ],\n        \"semantic_type\": \"\",\n        \"description\": \"\"\n      }\n    },\n    {\n      \"column\": \"released\",\n      \"properties\": {\n        \"dtype\": \"category\",\n        \"num_unique_values\": 1262,\n        \"samples\": [\n          \"June 13, 2018 (United States)\",\n          \"December 6, 2013 (United States)\",\n          \"August 21, 2009 (United States)\"\n        ],\n        \"semantic_type\": \"\",\n        \"description\": \"\"\n      }\n    },\n    {\n      \"column\": \"score\",\n      \"properties\": {\n        \"dtype\": \"number\",\n        \"std\": 0.9404249867556691,\n        \"min\": 1.9,\n        \"max\": 9.0,\n        \"num_unique_values\": 65,\n        \"samples\": [\n          4.1,\n          1.9,\n          7.6\n        ],\n        \"semantic_type\": \"\",\n        \"description\": \"\"\n      }\n    },\n    {\n      \"column\": \"votes\",\n      \"properties\": {\n        \"dtype\": \"number\",\n        \"std\": 191332.6259672494,\n        \"min\": 195.0,\n        \"max\": 2400000.0,\n        \"num_unique_values\": 574,\n        \"samples\": [\n          352000.0,\n          40000.0,\n          85000.0\n        ],\n        \"semantic_type\": \"\",\n        \"description\": \"\"\n      }\n    },\n    {\n      \"column\": \"director\",\n      \"properties\": {\n        \"dtype\": \"category\",\n        \"num_unique_values\": 1215,\n        \"samples\": [\n          \"Lone Scherfig\",\n          \"James Gunn\",\n          \"Bill Paxton\"\n        ],\n        \"semantic_type\": \"\",\n        \"description\": \"\"\n      }\n    },\n    {\n      \"column\": \"writer\",\n      \"properties\": {\n        \"dtype\": \"string\",\n        \"num_unique_values\": 1650,\n        \"samples\": [\n          \"Will Finn\",\n          \"Robert Dunn\",\n          \"Ray Wright\"\n        ],\n        \"semantic_type\": \"\",\n        \"description\": \"\"\n      }\n    },\n    {\n      \"column\": \"star\",\n      \"properties\": {\n        \"dtype\": \"category\",\n        \"num_unique_values\": 974,\n        \"samples\": [\n          \"Cuba Gooding Jr.\",\n          \"Quinton Aaron\",\n          \"Eddie Griffin\"\n        ],\n        \"semantic_type\": \"\",\n        \"description\": \"\"\n      }\n    },\n    {\n      \"column\": \"country\",\n      \"properties\": {\n        \"dtype\": \"category\",\n        \"num_unique_values\": 2,\n        \"samples\": [\n          \"United States\",\n          \"United Kingdom\"\n        ],\n        \"semantic_type\": \"\",\n        \"description\": \"\"\n      }\n    },\n    {\n      \"column\": \"budget\",\n      \"properties\": {\n        \"dtype\": \"number\",\n        \"std\": 50857584.767965734,\n        \"min\": 7000.0,\n        \"max\": 356000000.0,\n        \"num_unique_values\": 270,\n        \"samples\": [\n          19800000.0,\n          7500000.0\n        ],\n        \"semantic_type\": \"\",\n        \"description\": \"\"\n      }\n    },\n    {\n      \"column\": \"gross\",\n      \"properties\": {\n        \"dtype\": \"number\",\n        \"std\": 232795606.40222958,\n        \"min\": 5073.0,\n        \"max\": 2847246203.0,\n        \"num_unique_values\": 2598,\n        \"samples\": [\n          57588485.0,\n          73256266.0\n        ],\n        \"semantic_type\": \"\",\n        \"description\": \"\"\n      }\n    },\n    {\n      \"column\": \"company\",\n      \"properties\": {\n        \"dtype\": \"category\",\n        \"num_unique_values\": 652,\n        \"samples\": [\n          \"2.0 Entertainment\",\n          \"Senator Entertainment Co\"\n        ],\n        \"semantic_type\": \"\",\n        \"description\": \"\"\n      }\n    },\n    {\n      \"column\": \"runtime\",\n      \"properties\": {\n        \"dtype\": \"number\",\n        \"std\": 17.334042999685387,\n        \"min\": 63.0,\n        \"max\": 219.0,\n        \"num_unique_values\": 105,\n        \"samples\": [\n          101.0,\n          85.0\n        ],\n        \"semantic_type\": \"\",\n        \"description\": \"\"\n      }\n    }\n  ]\n}"
            }
          },
          "metadata": {},
          "execution_count": 38
        }
      ],
      "source": [
        "# Getting rid of empty cells\n",
        "movies.dropna(inplace=True)\n",
        "# Taking these ratings only to prevent any weird outliers (eg. NC-17, M, GP, etc.)\n",
        "movies= movies.query(\"rating in ['R','PG-13','PG','G']\")\n",
        "# I wanted the data to consist of english movies\n",
        "movies= movies.query(\"country in ['United States','United Kingdom']\")\n",
        "# I took only the movies from the year 2000 and onwards because i wanted to reduce the number of ddata points slightly\n",
        "movies= movies.query('year > 2000')\n",
        "\n",
        "movies"
      ]
    },
    {
      "cell_type": "markdown",
      "source": [
        "**Priors**\n",
        "\n",
        "There was an issue with my models in the fact that they didn't know where to start in terms of identifying a pattern/distribution, so I had to go in and hand define all the numerical predictors priors which is what you see below. These are not very thought out/ informed since I still wanted my actual model to do most of the work,but they do their job as a starting point."
      ],
      "metadata": {
        "id": "V95CBy2tR7at"
      }
    },
    {
      "cell_type": "code",
      "source": [
        "priors = {\"budget\" : bmb.Prior(\"Normal\", mu=80000000,sigma=10000), \"alpha\" : bmb.Prior(\"HalfNormal\",sigma=10),\n",
        "         \"gross\": bmb.Prior(\"Normal\", mu=1000000000,sigma=100000), \"alpha\" : bmb.Prior(\"HalfNormal\",sigma=10),\n",
        "         \"runtime\": bmb.Prior(\"Normal\", mu=100,sigma=50), \"alpha\" : bmb.Prior(\"HalfNormal\",sigma=10),\n",
        "         \"year\": bmb.Prior(\"Normal\", mu=2010,sigma=10), \"alpha\" : bmb.Prior(\"HalfNormal\",sigma=10)}"
      ],
      "metadata": {
        "id": "K4kdE9YWSybp"
      },
      "execution_count": 39,
      "outputs": []
    },
    {
      "cell_type": "markdown",
      "source": [
        "**Version O**\n",
        "\n",
        "This model is basically my prediction of what I think should be the best combination of predictors.\n",
        "\n",
        "My logic with the heirarchy between budget and gross revenue is that the higher the budget, the higher the revenue. Theoretically, the higher the budget, the better the actors and special effects/production. Good acting and good production makes good movies, and good movies make good money.\n",
        "\n",
        "I also added an interatction between year released and budget. Cinema has been a rapidly growing industry with a yearly growth rate of around 4.6% per year (according to [Satistica](https://www.statista.com/outlook/amo/media/cinema/worldwide#:~:text=in%20the%20world%2C%20revenue%20in,1.9bn%20users%20by%202029.)). The estimated value of the sector is about $87 billion as of 2023. Using this information I decided to assume that the year of production would have an effect on the budget (albeit a weak one)."
      ],
      "metadata": {
        "id": "D3vLd2WThg1P"
      }
    },
    {
      "cell_type": "markdown",
      "source": [
        "**Initial Causal Diagram**"
      ],
      "metadata": {
        "id": "LUsXORNfze9g"
      }
    },
    {
      "cell_type": "markdown",
      "source": [
        "![Screenshot 2025-01-30 12.20.23 PM.png](data:image/png;base64,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)"
      ],
      "metadata": {
        "id": "5IjxCjvPzRDt"
      }
    },
    {
      "cell_type": "code",
      "source": [
        "model_v0 = bmb.Model(\"score ~ year + budget|gross + rating + year:budget\", data=movies, priors=priors)\n",
        "#fit the model\n",
        "idata_v0 = model_v0.fit(idata_kwargs={'log_likelihood': True})"
      ],
      "metadata": {
        "colab": {
          "base_uri": "https://localhost:8080/",
          "height": 57,
          "referenced_widgets": [
            "e1d897ccbc874c98818251a083723277",
            "dfdb2d6f235a40208c51d4f5946296d4",
            "4e476fc3b0e8405890e3365330ef5eaf",
            "e28860afb0194d5b87a24eed7d5700ca"
          ]
        },
        "id": "U56vRcfRca52",
        "outputId": "9cf99a95-19d3-4f3e-fca6-6645b5470eb0"
      },
      "execution_count": 40,
      "outputs": [
        {
          "output_type": "display_data",
          "data": {
            "text/plain": [
              "Output()"
            ],
            "application/vnd.jupyter.widget-view+json": {
              "version_major": 2,
              "version_minor": 0,
              "model_id": "e1d897ccbc874c98818251a083723277"
            }
          },
          "metadata": {}
        },
        {
          "output_type": "display_data",
          "data": {
            "text/plain": [],
            "text/html": [
              "<pre style=\"white-space:pre;overflow-x:auto;line-height:normal;font-family:Menlo,'DejaVu Sans Mono',consolas,'Courier New',monospace\"></pre>\n"
            ]
          },
          "metadata": {}
        },
        {
          "output_type": "display_data",
          "data": {
            "text/plain": [
              "Output()"
            ],
            "application/vnd.jupyter.widget-view+json": {
              "version_major": 2,
              "version_minor": 0,
              "model_id": "4e476fc3b0e8405890e3365330ef5eaf"
            }
          },
          "metadata": {}
        },
        {
          "output_type": "display_data",
          "data": {
            "text/plain": [],
            "text/html": [
              "<pre style=\"white-space:pre;overflow-x:auto;line-height:normal;font-family:Menlo,'DejaVu Sans Mono',consolas,'Courier New',monospace\"></pre>\n"
            ]
          },
          "metadata": {}
        }
      ]
    },
    {
      "cell_type": "markdown",
      "source": [
        "**Version 1**\n",
        "\n",
        "For my first variation I just wanted to start basic. I used all of my predictors but did't add any fancy heirarchies or interactions or anything. I added runtimme in even though it wasnt in my ideal model (v0) beause I thought it would be good to include it going forward just in case it does have an effect (I don't think it will)."
      ],
      "metadata": {
        "id": "43Ui3OnRS1Sa"
      }
    },
    {
      "cell_type": "code",
      "execution_count": 41,
      "metadata": {
        "colab": {
          "base_uri": "https://localhost:8080/",
          "height": 57,
          "referenced_widgets": [
            "74d027472c7c45d7b654b8b58ee26539",
            "1831fec2bdbd4a049259a9435ddef9f6",
            "b242965cff8e43dab5ffd19b2d18fb08",
            "b28b3f5e29864d2d9e681e612ed2c1b3"
          ]
        },
        "id": "bIPzDmFUrcIM",
        "outputId": "42632ce4-31a0-4c6a-f80f-d8d8aa89efea"
      },
      "outputs": [
        {
          "output_type": "display_data",
          "data": {
            "text/plain": [
              "Output()"
            ],
            "application/vnd.jupyter.widget-view+json": {
              "version_major": 2,
              "version_minor": 0,
              "model_id": "74d027472c7c45d7b654b8b58ee26539"
            }
          },
          "metadata": {}
        },
        {
          "output_type": "display_data",
          "data": {
            "text/plain": [],
            "text/html": [
              "<pre style=\"white-space:pre;overflow-x:auto;line-height:normal;font-family:Menlo,'DejaVu Sans Mono',consolas,'Courier New',monospace\"></pre>\n"
            ]
          },
          "metadata": {}
        },
        {
          "output_type": "display_data",
          "data": {
            "text/plain": [
              "Output()"
            ],
            "application/vnd.jupyter.widget-view+json": {
              "version_major": 2,
              "version_minor": 0,
              "model_id": "b242965cff8e43dab5ffd19b2d18fb08"
            }
          },
          "metadata": {}
        },
        {
          "output_type": "display_data",
          "data": {
            "text/plain": [],
            "text/html": [
              "<pre style=\"white-space:pre;overflow-x:auto;line-height:normal;font-family:Menlo,'DejaVu Sans Mono',consolas,'Courier New',monospace\"></pre>\n"
            ]
          },
          "metadata": {}
        }
      ],
      "source": [
        "model_v1 = bmb.Model(\"score ~ year + budget + gross + runtime + rating\", data=movies, priors=priors)\n",
        "#fit the model\n",
        "idata_v1 = model_v1.fit(idata_kwargs={'log_likelihood': True})"
      ]
    },
    {
      "cell_type": "markdown",
      "metadata": {
        "id": "kAc8guM5-Dzt"
      },
      "source": [
        "**Version 2**\n",
        "\n",
        "For this model I decided to scrap the year to budget interaction and only include the budget to gross revenue heirarchy. I did this because I wanted to isolate my connection in seperate models to see if either performed better individually."
      ]
    },
    {
      "cell_type": "code",
      "execution_count": 42,
      "metadata": {
        "colab": {
          "base_uri": "https://localhost:8080/",
          "height": 57,
          "referenced_widgets": [
            "fdd45b7d6fa44c79b04dc6948f587319",
            "6ca3194a658d4639aff9e4f2addfd69c",
            "c7a21ee5186d4faab42c93ec5aa923b7",
            "2222ec29726b4c88af7d18a9d39287dd"
          ]
        },
        "id": "yLjXuABR9417",
        "outputId": "fb18a745-17ba-4429-aaa7-f2f56ecea8d3"
      },
      "outputs": [
        {
          "output_type": "display_data",
          "data": {
            "text/plain": [
              "Output()"
            ],
            "application/vnd.jupyter.widget-view+json": {
              "version_major": 2,
              "version_minor": 0,
              "model_id": "fdd45b7d6fa44c79b04dc6948f587319"
            }
          },
          "metadata": {}
        },
        {
          "output_type": "display_data",
          "data": {
            "text/plain": [],
            "text/html": [
              "<pre style=\"white-space:pre;overflow-x:auto;line-height:normal;font-family:Menlo,'DejaVu Sans Mono',consolas,'Courier New',monospace\"></pre>\n"
            ]
          },
          "metadata": {}
        },
        {
          "output_type": "display_data",
          "data": {
            "text/plain": [
              "Output()"
            ],
            "application/vnd.jupyter.widget-view+json": {
              "version_major": 2,
              "version_minor": 0,
              "model_id": "c7a21ee5186d4faab42c93ec5aa923b7"
            }
          },
          "metadata": {}
        },
        {
          "output_type": "display_data",
          "data": {
            "text/plain": [],
            "text/html": [
              "<pre style=\"white-space:pre;overflow-x:auto;line-height:normal;font-family:Menlo,'DejaVu Sans Mono',consolas,'Courier New',monospace\"></pre>\n"
            ]
          },
          "metadata": {}
        }
      ],
      "source": [
        "model_v2 = bmb.Model(\"score ~ year + runtime + rating + budget|gross\", data=movies, priors=priors)\n",
        "#fit the model\n",
        "idata_v2 = model_v2.fit(idata_kwargs={'log_likelihood': True})"
      ]
    },
    {
      "cell_type": "markdown",
      "source": [
        "**Version 3**\n",
        "\n",
        "Similiarly to version 2, in version 3 I only included my interaction between year and budget just to see if it persormed better without the added heirarchy"
      ],
      "metadata": {
        "id": "AocdoOjyUfr8"
      }
    },
    {
      "cell_type": "code",
      "execution_count": 43,
      "metadata": {
        "id": "4TzsVErX-KPR",
        "colab": {
          "base_uri": "https://localhost:8080/",
          "height": 199,
          "referenced_widgets": [
            "3559d35bf15048d58f6a877ef9595e1d",
            "5738a22354c84ddaa107aca34d8e01d5",
            "1553309b8236455a96f78d7fa3fa8656",
            "ee5de4d5e12b4da198a935a6acc9c536"
          ]
        },
        "outputId": "d6590b1f-e2a6-4f22-b3a1-2137f6a2f142"
      },
      "outputs": [
        {
          "output_type": "display_data",
          "data": {
            "text/plain": [
              "Output()"
            ],
            "application/vnd.jupyter.widget-view+json": {
              "version_major": 2,
              "version_minor": 0,
              "model_id": "3559d35bf15048d58f6a877ef9595e1d"
            }
          },
          "metadata": {}
        },
        {
          "output_type": "display_data",
          "data": {
            "text/plain": [],
            "text/html": [
              "<pre style=\"white-space:pre;overflow-x:auto;line-height:normal;font-family:Menlo,'DejaVu Sans Mono',consolas,'Courier New',monospace\"></pre>\n"
            ]
          },
          "metadata": {}
        },
        {
          "output_type": "display_data",
          "data": {
            "text/plain": [
              "Output()"
            ],
            "application/vnd.jupyter.widget-view+json": {
              "version_major": 2,
              "version_minor": 0,
              "model_id": "1553309b8236455a96f78d7fa3fa8656"
            }
          },
          "metadata": {}
        },
        {
          "output_type": "display_data",
          "data": {
            "text/plain": [],
            "text/html": [
              "<pre style=\"white-space:pre;overflow-x:auto;line-height:normal;font-family:Menlo,'DejaVu Sans Mono',consolas,'Courier New',monospace\"></pre>\n"
            ]
          },
          "metadata": {}
        },
        {
          "output_type": "stream",
          "name": "stderr",
          "text": [
            "/usr/local/lib/python3.11/dist-packages/arviz/stats/diagnostics.py:595: RuntimeWarning: invalid value encountered in sqrt\n",
            "  rhat_value = np.sqrt(\n",
            "/usr/local/lib/python3.11/dist-packages/arviz/stats/diagnostics.py:596: RuntimeWarning: invalid value encountered in scalar divide\n",
            "  (between_chain_variance / within_chain_variance + num_samples - 1) / (num_samples)\n",
            "WARNING:pymc.stats.convergence:Chain 0 reached the maximum tree depth. Increase `max_treedepth`, increase `target_accept` or reparameterize.\n",
            "WARNING:pymc.stats.convergence:Chain 1 reached the maximum tree depth. Increase `max_treedepth`, increase `target_accept` or reparameterize.\n",
            "ERROR:pymc.stats.convergence:The effective sample size per chain is smaller than 100 for some parameters.  A higher number is needed for reliable rhat and ess computation. See https://arxiv.org/abs/1903.08008 for details\n"
          ]
        }
      ],
      "source": [
        "model_v3 = bmb.Model(\"score ~ gross + runtime + rating + year:budget\", data=movies, priors=priors)\n",
        "#fit the model\n",
        "idata_v3 = model_v3.fit(idata_kwargs={'log_likelihood': True})"
      ]
    },
    {
      "cell_type": "markdown",
      "source": [
        "**Version 4**\n",
        "\n",
        "For this version I just switched the heirarchy to a interaction and the interaction to a heirarchy. I did this since I could see the logic for both ways and wanted to see if there was a significant difference in doing so, but also just for fun."
      ],
      "metadata": {
        "id": "Gql0QUEzXSK6"
      }
    },
    {
      "cell_type": "code",
      "execution_count": 17,
      "metadata": {
        "id": "yBHGyQTh-hwB",
        "colab": {
          "base_uri": "https://localhost:8080/",
          "height": 57,
          "referenced_widgets": [
            "696c265fc4064906af49d48748ecf554",
            "10ab0ac3d0c241af9f08fe5fbd469cbc",
            "00ec3bdae3334cce82fa2f6e9998c0b1",
            "8748f35de1db480586e7ff40e97f3e09"
          ]
        },
        "outputId": "f441d56f-3851-4eaa-9747-07dbc80f5a51"
      },
      "outputs": [
        {
          "output_type": "display_data",
          "data": {
            "text/plain": [
              "Output()"
            ],
            "application/vnd.jupyter.widget-view+json": {
              "version_major": 2,
              "version_minor": 0,
              "model_id": "696c265fc4064906af49d48748ecf554"
            }
          },
          "metadata": {}
        },
        {
          "output_type": "display_data",
          "data": {
            "text/plain": [],
            "text/html": [
              "<pre style=\"white-space:pre;overflow-x:auto;line-height:normal;font-family:Menlo,'DejaVu Sans Mono',consolas,'Courier New',monospace\"></pre>\n"
            ]
          },
          "metadata": {}
        },
        {
          "output_type": "display_data",
          "data": {
            "text/plain": [
              "Output()"
            ],
            "application/vnd.jupyter.widget-view+json": {
              "version_major": 2,
              "version_minor": 0,
              "model_id": "00ec3bdae3334cce82fa2f6e9998c0b1"
            }
          },
          "metadata": {}
        },
        {
          "output_type": "display_data",
          "data": {
            "text/plain": [],
            "text/html": [
              "<pre style=\"white-space:pre;overflow-x:auto;line-height:normal;font-family:Menlo,'DejaVu Sans Mono',consolas,'Courier New',monospace\"></pre>\n"
            ]
          },
          "metadata": {}
        }
      ],
      "source": [
        "model_v4 = bmb.Model(\"score ~ year + budget + gross + runtime + rating + year|budget + budget:gross\", data=movies, priors=priors)\n",
        "#fit the model\n",
        "idata_v4 = model_v4.fit(idata_kwargs={'log_likelihood': True})"
      ]
    },
    {
      "cell_type": "markdown",
      "source": [
        "**Version 5**\n",
        "\n",
        "For this version I kept everything from version 4, but decided to cut runtime as a predictor. After consideration I decided that runtime is defenitley not a huge factor in whether or not people watch a movie or not and even less of a factor when they rate it out of ten."
      ],
      "metadata": {
        "id": "nNHdPHN6XvGl"
      }
    },
    {
      "cell_type": "code",
      "source": [
        "model_v5 = bmb.Model(\"score ~ year + budget + gross + rating + year|budget + budget:gross\", data=movies, priors=priors)\n",
        "#fit the model\n",
        "idata_v5 = model_v5.fit(idata_kwargs={'log_likelihood': True})"
      ],
      "metadata": {
        "colab": {
          "base_uri": "https://localhost:8080/",
          "height": 57,
          "referenced_widgets": [
            "09013b1921144d6d82863f0de27412de",
            "f968b461075140c286645fc7e4d26c3f",
            "46cfa869cd1b4a7f9e320ba737d8b594",
            "ae624abc96af418087c08f6391a31514"
          ]
        },
        "id": "Dp8eyjsxOe3t",
        "outputId": "d34f435f-5b86-4b30-c871-f128875e15d8"
      },
      "execution_count": 18,
      "outputs": [
        {
          "output_type": "display_data",
          "data": {
            "text/plain": [
              "Output()"
            ],
            "application/vnd.jupyter.widget-view+json": {
              "version_major": 2,
              "version_minor": 0,
              "model_id": "09013b1921144d6d82863f0de27412de"
            }
          },
          "metadata": {}
        },
        {
          "output_type": "display_data",
          "data": {
            "text/plain": [],
            "text/html": [
              "<pre style=\"white-space:pre;overflow-x:auto;line-height:normal;font-family:Menlo,'DejaVu Sans Mono',consolas,'Courier New',monospace\"></pre>\n"
            ]
          },
          "metadata": {}
        },
        {
          "output_type": "display_data",
          "data": {
            "text/plain": [
              "Output()"
            ],
            "application/vnd.jupyter.widget-view+json": {
              "version_major": 2,
              "version_minor": 0,
              "model_id": "46cfa869cd1b4a7f9e320ba737d8b594"
            }
          },
          "metadata": {}
        },
        {
          "output_type": "display_data",
          "data": {
            "text/plain": [],
            "text/html": [
              "<pre style=\"white-space:pre;overflow-x:auto;line-height:normal;font-family:Menlo,'DejaVu Sans Mono',consolas,'Courier New',monospace\"></pre>\n"
            ]
          },
          "metadata": {}
        }
      ]
    },
    {
      "cell_type": "markdown",
      "source": [
        "**Version 6**\n",
        "\n",
        "Just as a sort of control/baseline for my other models, I decided to run one with all my predictors \"plain\" but without runtime to see if it really even had a significant effect (spoiler alert, it didn't)."
      ],
      "metadata": {
        "id": "T1XfbFUWYs2i"
      }
    },
    {
      "cell_type": "code",
      "source": [
        "model_v6 = bmb.Model(\"score ~ year + budget + gross + rating\", data=movies, priors=priors)\n",
        "#fit the model\n",
        "idata_v6 = model_v6.fit(idata_kwargs={'log_likelihood': True})"
      ],
      "metadata": {
        "colab": {
          "base_uri": "https://localhost:8080/",
          "height": 57,
          "referenced_widgets": [
            "4f523371c3fe47298754c9ef1ebfdc42",
            "647af0a8b39f420380282389f4bfa00e",
            "204d736b98294e229d2f2f624d5ed12d",
            "04452df305784a0f9bd499b891b29c59"
          ]
        },
        "id": "wWkqAUk2O_SS",
        "outputId": "f3ed4159-1787-4c57-c178-927675c8233b"
      },
      "execution_count": 19,
      "outputs": [
        {
          "output_type": "display_data",
          "data": {
            "text/plain": [
              "Output()"
            ],
            "application/vnd.jupyter.widget-view+json": {
              "version_major": 2,
              "version_minor": 0,
              "model_id": "4f523371c3fe47298754c9ef1ebfdc42"
            }
          },
          "metadata": {}
        },
        {
          "output_type": "display_data",
          "data": {
            "text/plain": [],
            "text/html": [
              "<pre style=\"white-space:pre;overflow-x:auto;line-height:normal;font-family:Menlo,'DejaVu Sans Mono',consolas,'Courier New',monospace\"></pre>\n"
            ]
          },
          "metadata": {}
        },
        {
          "output_type": "display_data",
          "data": {
            "text/plain": [
              "Output()"
            ],
            "application/vnd.jupyter.widget-view+json": {
              "version_major": 2,
              "version_minor": 0,
              "model_id": "204d736b98294e229d2f2f624d5ed12d"
            }
          },
          "metadata": {}
        },
        {
          "output_type": "display_data",
          "data": {
            "text/plain": [],
            "text/html": [
              "<pre style=\"white-space:pre;overflow-x:auto;line-height:normal;font-family:Menlo,'DejaVu Sans Mono',consolas,'Courier New',monospace\"></pre>\n"
            ]
          },
          "metadata": {}
        }
      ]
    },
    {
      "cell_type": "markdown",
      "source": [
        "**Comparision**\n",
        "\n",
        "I am comparing all my models here to see whcih one is the best."
      ],
      "metadata": {
        "id": "rpHpmcwFZqR_"
      }
    },
    {
      "cell_type": "code",
      "source": [
        "cmp_1 = az.compare( {\"v0\":idata_v0, \"v1\":idata_v1,\"v2\":idata_v2, \"v3\":idata_v3, \"v4\":idata_v4, \"v5\":idata_v5, \"v6\":idata_v6} )\n",
        "cmp_1\n",
        "az.plot_compare(cmp_1)"
      ],
      "metadata": {
        "colab": {
          "base_uri": "https://localhost:8080/",
          "height": 836
        },
        "id": "JQlVjkMgWRyY",
        "outputId": "c763ab07-b3f2-4a4a-e04d-4388f89e38c0"
      },
      "execution_count": 23,
      "outputs": [
        {
          "output_type": "stream",
          "name": "stderr",
          "text": [
            "/usr/local/lib/python3.11/dist-packages/arviz/stats/stats.py:1043: RuntimeWarning: overflow encountered in exp\n",
            "  weights = 1 / np.exp(len_scale - len_scale[:, None]).sum(axis=1)\n",
            "/usr/local/lib/python3.11/dist-packages/numpy/core/_methods.py:49: RuntimeWarning: overflow encountered in reduce\n",
            "  return umr_sum(a, axis, dtype, out, keepdims, initial, where)\n",
            "/usr/local/lib/python3.11/dist-packages/arviz/stats/stats.py:795: UserWarning: Estimated shape parameter of Pareto distribution is greater than 0.70 for one or more samples. You should consider using a more robust model, this is because importance sampling is less likely to work well if the marginal posterior and LOO posterior are very different. This is more likely to happen with a non-robust model and highly influential observations.\n",
            "  warnings.warn(\n"
          ]
        },
        {
          "output_type": "execute_result",
          "data": {
            "text/plain": [
              "<Axes: title={'center': 'Model comparison\\nhigher is better'}, xlabel='elpd_loo (log)', ylabel='ranked models'>"
            ]
          },
          "metadata": {},
          "execution_count": 23
        },
        {
          "output_type": "display_data",
          "data": {
            "text/plain": [
              "<Figure size 600x700 with 1 Axes>"
            ],
            "image/png": "[encoded data removed]"
          },
          "metadata": {}
        }
      ]
    },
    {
      "cell_type": "code",
      "source": [
        "cmp_1"
      ],
      "metadata": {
        "colab": {
          "base_uri": "https://localhost:8080/",
          "height": 269
        },
        "id": "87Lk7AOWsgVB",
        "outputId": "d38105cb-0dd5-47bb-bff6-b7ae6b60b30d"
      },
      "execution_count": 29,
      "outputs": [
        {
          "output_type": "execute_result",
          "data": {
            "text/plain": [
              "    rank       elpd_loo        p_loo     elpd_diff        weight          se  \\\n",
              "v0     0  -97065.164695     2.736686      0.000000  9.999948e-01   61.399882   \n",
              "v2     1  -97065.331485     2.981640      0.166790  5.231329e-06   61.378703   \n",
              "v5     2 -107618.058916    12.181320  10552.894221  4.082429e-09  129.094291   \n",
              "v4     3 -107618.215364    11.955325  10553.050669  4.082173e-09  129.113366   \n",
              "v1     4 -107618.376367    12.626799  10553.211672  4.077309e-09  129.308910   \n",
              "v6     5 -107618.758880    12.755290  10553.594185  4.074772e-09  129.458366   \n",
              "v3     6 -112441.026165  4915.672139  15375.861470  2.339304e-09  819.046087   \n",
              "\n",
              "           dse  warning scale  \n",
              "v0    0.000000    False   log  \n",
              "v2    0.023621    False   log  \n",
              "v5  104.609113    False   log  \n",
              "v4  104.632690    False   log  \n",
              "v1  104.800200    False   log  \n",
              "v6  104.953124    False   log  \n",
              "v3  785.118716     True   log  "
            ],
            "text/html": [
              "\n",
              "  <div id=\"df-d49a3b3b-d6d1-4a0d-b56f-6f17f43deb58\" class=\"colab-df-container\">\n",
              "    <div>\n",
              "<style scoped>\n",
              "    .dataframe tbody tr th:only-of-type {\n",
              "        vertical-align: middle;\n",
              "    }\n",
              "\n",
              "    .dataframe tbody tr th {\n",
              "        vertical-align: top;\n",
              "    }\n",
              "\n",
              "    .dataframe thead th {\n",
              "        text-align: right;\n",
              "    }\n",
              "</style>\n",
              "<table border=\"1\" class=\"dataframe\">\n",
              "  <thead>\n",
              "    <tr style=\"text-align: right;\">\n",
              "      <th></th>\n",
              "      <th>rank</th>\n",
              "      <th>elpd_loo</th>\n",
              "      <th>p_loo</th>\n",
              "      <th>elpd_diff</th>\n",
              "      <th>weight</th>\n",
              "      <th>se</th>\n",
              "      <th>dse</th>\n",
              "      <th>warning</th>\n",
              "      <th>scale</th>\n",
              "    </tr>\n",
              "  </thead>\n",
              "  <tbody>\n",
              "    <tr>\n",
              "      <th>v0</th>\n",
              "      <td>0</td>\n",
              "      <td>-97065.164695</td>\n",
              "      <td>2.736686</td>\n",
              "      <td>0.000000</td>\n",
              "      <td>9.999948e-01</td>\n",
              "      <td>61.399882</td>\n",
              "      <td>0.000000</td>\n",
              "      <td>False</td>\n",
              "      <td>log</td>\n",
              "    </tr>\n",
              "    <tr>\n",
              "      <th>v2</th>\n",
              "      <td>1</td>\n",
              "      <td>-97065.331485</td>\n",
              "      <td>2.981640</td>\n",
              "      <td>0.166790</td>\n",
              "      <td>5.231329e-06</td>\n",
              "      <td>61.378703</td>\n",
              "      <td>0.023621</td>\n",
              "      <td>False</td>\n",
              "      <td>log</td>\n",
              "    </tr>\n",
              "    <tr>\n",
              "      <th>v5</th>\n",
              "      <td>2</td>\n",
              "      <td>-107618.058916</td>\n",
              "      <td>12.181320</td>\n",
              "      <td>10552.894221</td>\n",
              "      <td>4.082429e-09</td>\n",
              "      <td>129.094291</td>\n",
              "      <td>104.609113</td>\n",
              "      <td>False</td>\n",
              "      <td>log</td>\n",
              "    </tr>\n",
              "    <tr>\n",
              "      <th>v4</th>\n",
              "      <td>3</td>\n",
              "      <td>-107618.215364</td>\n",
              "      <td>11.955325</td>\n",
              "      <td>10553.050669</td>\n",
              "      <td>4.082173e-09</td>\n",
              "      <td>129.113366</td>\n",
              "      <td>104.632690</td>\n",
              "      <td>False</td>\n",
              "      <td>log</td>\n",
              "    </tr>\n",
              "    <tr>\n",
              "      <th>v1</th>\n",
              "      <td>4</td>\n",
              "      <td>-107618.376367</td>\n",
              "      <td>12.626799</td>\n",
              "      <td>10553.211672</td>\n",
              "      <td>4.077309e-09</td>\n",
              "      <td>129.308910</td>\n",
              "      <td>104.800200</td>\n",
              "      <td>False</td>\n",
              "      <td>log</td>\n",
              "    </tr>\n",
              "    <tr>\n",
              "      <th>v6</th>\n",
              "      <td>5</td>\n",
              "      <td>-107618.758880</td>\n",
              "      <td>12.755290</td>\n",
              "      <td>10553.594185</td>\n",
              "      <td>4.074772e-09</td>\n",
              "      <td>129.458366</td>\n",
              "      <td>104.953124</td>\n",
              "      <td>False</td>\n",
              "      <td>log</td>\n",
              "    </tr>\n",
              "    <tr>\n",
              "      <th>v3</th>\n",
              "      <td>6</td>\n",
              "      <td>-112441.026165</td>\n",
              "      <td>4915.672139</td>\n",
              "      <td>15375.861470</td>\n",
              "      <td>2.339304e-09</td>\n",
              "      <td>819.046087</td>\n",
              "      <td>785.118716</td>\n",
              "      <td>True</td>\n",
              "      <td>log</td>\n",
              "    </tr>\n",
              "  </tbody>\n",
              "</table>\n",
              "</div>\n",
              "    <div class=\"colab-df-buttons\">\n",
              "\n",
              "  <div class=\"colab-df-container\">\n",
              "    <button class=\"colab-df-convert\" onclick=\"convertToInteractive('df-d49a3b3b-d6d1-4a0d-b56f-6f17f43deb58')\"\n",
              "            title=\"Convert this dataframe to an interactive table.\"\n",
              "            style=\"display:none;\">\n",
              "\n",
              "  <svg xmlns=\"http://www.w3.org/2000/svg\" height=\"24px\" viewBox=\"0 -960 960 960\">\n",
              "    <path d=\"M120-120v-720h720v720H120Zm60-500h600v-160H180v160Zm220 220h160v-160H400v160Zm0 220h160v-160H400v160ZM180-400h160v-160H180v160Zm440 0h160v-160H620v160ZM180-180h160v-160H180v160Zm440 0h160v-160H620v160Z\"/>\n",
              "  </svg>\n",
              "    </button>\n",
              "\n",
              "  <style>\n",
              "    .colab-df-container {\n",
              "      display:flex;\n",
              "      gap: 12px;\n",
              "    }\n",
              "\n",
              "    .colab-df-convert {\n",
              "      background-color: #E8F0FE;\n",
              "      border: none;\n",
              "      border-radius: 50%;\n",
              "      cursor: pointer;\n",
              "      display: none;\n",
              "      fill: #1967D2;\n",
              "      height: 32px;\n",
              "      padding: 0 0 0 0;\n",
              "      width: 32px;\n",
              "    }\n",
              "\n",
              "    .colab-df-convert:hover {\n",
              "      background-color: #E2EBFA;\n",
              "      box-shadow: 0px 1px 2px rgba(60, 64, 67, 0.3), 0px 1px 3px 1px rgba(60, 64, 67, 0.15);\n",
              "      fill: #174EA6;\n",
              "    }\n",
              "\n",
              "    .colab-df-buttons div {\n",
              "      margin-bottom: 4px;\n",
              "    }\n",
              "\n",
              "    [theme=dark] .colab-df-convert {\n",
              "      background-color: #3B4455;\n",
              "      fill: #D2E3FC;\n",
              "    }\n",
              "\n",
              "    [theme=dark] .colab-df-convert:hover {\n",
              "      background-color: #434B5C;\n",
              "      box-shadow: 0px 1px 3px 1px rgba(0, 0, 0, 0.15);\n",
              "      filter: drop-shadow(0px 1px 2px rgba(0, 0, 0, 0.3));\n",
              "      fill: #FFFFFF;\n",
              "    }\n",
              "  </style>\n",
              "\n",
              "    <script>\n",
              "      const buttonEl =\n",
              "        document.querySelector('#df-d49a3b3b-d6d1-4a0d-b56f-6f17f43deb58 button.colab-df-convert');\n",
              "      buttonEl.style.display =\n",
              "        google.colab.kernel.accessAllowed ? 'block' : 'none';\n",
              "\n",
              "      async function convertToInteractive(key) {\n",
              "        const element = document.querySelector('#df-d49a3b3b-d6d1-4a0d-b56f-6f17f43deb58');\n",
              "        const dataTable =\n",
              "          await google.colab.kernel.invokeFunction('convertToInteractive',\n",
              "                                                    [key], {});\n",
              "        if (!dataTable) return;\n",
              "\n",
              "        const docLinkHtml = 'Like what you see? Visit the ' +\n",
              "          '<a target=\"_blank\" href=https://colab.research.google.com/notebooks/data_table.ipynb>data table notebook</a>'\n",
              "          + ' to learn more about interactive tables.';\n",
              "        element.innerHTML = '';\n",
              "        dataTable['output_type'] = 'display_data';\n",
              "        await google.colab.output.renderOutput(dataTable, element);\n",
              "        const docLink = document.createElement('div');\n",
              "        docLink.innerHTML = docLinkHtml;\n",
              "        element.appendChild(docLink);\n",
              "      }\n",
              "    </script>\n",
              "  </div>\n",
              "\n",
              "\n",
              "<div id=\"df-92949602-4aca-4ae5-a619-89be2df54415\">\n",
              "  <button class=\"colab-df-quickchart\" onclick=\"quickchart('df-92949602-4aca-4ae5-a619-89be2df54415')\"\n",
              "            title=\"Suggest charts\"\n",
              "            style=\"display:none;\">\n",
              "\n",
              "<svg xmlns=\"http://www.w3.org/2000/svg\" height=\"24px\"viewBox=\"0 0 24 24\"\n",
              "     width=\"24px\">\n",
              "    <g>\n",
              "        <path d=\"M19 3H5c-1.1 0-2 .9-2 2v14c0 1.1.9 2 2 2h14c1.1 0 2-.9 2-2V5c0-1.1-.9-2-2-2zM9 17H7v-7h2v7zm4 0h-2V7h2v10zm4 0h-2v-4h2v4z\"/>\n",
              "    </g>\n",
              "</svg>\n",
              "  </button>\n",
              "\n",
              "<style>\n",
              "  .colab-df-quickchart {\n",
              "      --bg-color: #E8F0FE;\n",
              "      --fill-color: #1967D2;\n",
              "      --hover-bg-color: #E2EBFA;\n",
              "      --hover-fill-color: #174EA6;\n",
              "      --disabled-fill-color: #AAA;\n",
              "      --disabled-bg-color: #DDD;\n",
              "  }\n",
              "\n",
              "  [theme=dark] .colab-df-quickchart {\n",
              "      --bg-color: #3B4455;\n",
              "      --fill-color: #D2E3FC;\n",
              "      --hover-bg-color: #434B5C;\n",
              "      --hover-fill-color: #FFFFFF;\n",
              "      --disabled-bg-color: #3B4455;\n",
              "      --disabled-fill-color: #666;\n",
              "  }\n",
              "\n",
              "  .colab-df-quickchart {\n",
              "    background-color: var(--bg-color);\n",
              "    border: none;\n",
              "    border-radius: 50%;\n",
              "    cursor: pointer;\n",
              "    display: none;\n",
              "    fill: var(--fill-color);\n",
              "    height: 32px;\n",
              "    padding: 0;\n",
              "    width: 32px;\n",
              "  }\n",
              "\n",
              "  .colab-df-quickchart:hover {\n",
              "    background-color: var(--hover-bg-color);\n",
              "    box-shadow: 0 1px 2px rgba(60, 64, 67, 0.3), 0 1px 3px 1px rgba(60, 64, 67, 0.15);\n",
              "    fill: var(--button-hover-fill-color);\n",
              "  }\n",
              "\n",
              "  .colab-df-quickchart-complete:disabled,\n",
              "  .colab-df-quickchart-complete:disabled:hover {\n",
              "    background-color: var(--disabled-bg-color);\n",
              "    fill: var(--disabled-fill-color);\n",
              "    box-shadow: none;\n",
              "  }\n",
              "\n",
              "  .colab-df-spinner {\n",
              "    border: 2px solid var(--fill-color);\n",
              "    border-color: transparent;\n",
              "    border-bottom-color: var(--fill-color);\n",
              "    animation:\n",
              "      spin 1s steps(1) infinite;\n",
              "  }\n",
              "\n",
              "  @keyframes spin {\n",
              "    0% {\n",
              "      border-color: transparent;\n",
              "      border-bottom-color: var(--fill-color);\n",
              "      border-left-color: var(--fill-color);\n",
              "    }\n",
              "    20% {\n",
              "      border-color: transparent;\n",
              "      border-left-color: var(--fill-color);\n",
              "      border-top-color: var(--fill-color);\n",
              "    }\n",
              "    30% {\n",
              "      border-color: transparent;\n",
              "      border-left-color: var(--fill-color);\n",
              "      border-top-color: var(--fill-color);\n",
              "      border-right-color: var(--fill-color);\n",
              "    }\n",
              "    40% {\n",
              "      border-color: transparent;\n",
              "      border-right-color: var(--fill-color);\n",
              "      border-top-color: var(--fill-color);\n",
              "    }\n",
              "    60% {\n",
              "      border-color: transparent;\n",
              "      border-right-color: var(--fill-color);\n",
              "    }\n",
              "    80% {\n",
              "      border-color: transparent;\n",
              "      border-right-color: var(--fill-color);\n",
              "      border-bottom-color: var(--fill-color);\n",
              "    }\n",
              "    90% {\n",
              "      border-color: transparent;\n",
              "      border-bottom-color: var(--fill-color);\n",
              "    }\n",
              "  }\n",
              "</style>\n",
              "\n",
              "  <script>\n",
              "    async function quickchart(key) {\n",
              "      const quickchartButtonEl =\n",
              "        document.querySelector('#' + key + ' button');\n",
              "      quickchartButtonEl.disabled = true;  // To prevent multiple clicks.\n",
              "      quickchartButtonEl.classList.add('colab-df-spinner');\n",
              "      try {\n",
              "        const charts = await google.colab.kernel.invokeFunction(\n",
              "            'suggestCharts', [key], {});\n",
              "      } catch (error) {\n",
              "        console.error('Error during call to suggestCharts:', error);\n",
              "      }\n",
              "      quickchartButtonEl.classList.remove('colab-df-spinner');\n",
              "      quickchartButtonEl.classList.add('colab-df-quickchart-complete');\n",
              "    }\n",
              "    (() => {\n",
              "      let quickchartButtonEl =\n",
              "        document.querySelector('#df-92949602-4aca-4ae5-a619-89be2df54415 button');\n",
              "      quickchartButtonEl.style.display =\n",
              "        google.colab.kernel.accessAllowed ? 'block' : 'none';\n",
              "    })();\n",
              "  </script>\n",
              "</div>\n",
              "    </div>\n",
              "  </div>\n"
            ],
            "application/vnd.google.colaboratory.intrinsic+json": {
              "type": "dataframe",
              "variable_name": "cmp_1",
              "summary": "{\n  \"name\": \"cmp_1\",\n  \"rows\": 7,\n  \"fields\": [\n    {\n      \"column\": \"rank\",\n      \"properties\": {\n        \"dtype\": \"number\",\n        \"std\": 2,\n        \"min\": 0,\n        \"max\": 6,\n        \"num_unique_values\": 7,\n        \"samples\": [\n          0,\n          1,\n          5\n        ],\n        \"semantic_type\": \"\",\n        \"description\": \"\"\n      }\n    },\n    {\n      \"column\": \"elpd_loo\",\n      \"properties\": {\n        \"dtype\": \"number\",\n        \"std\": 5889.469852512601,\n        \"min\": -112441.02616493635,\n        \"max\": -97065.16469493139,\n        \"num_unique_values\": 7,\n        \"samples\": [\n          -97065.16469493139,\n          -97065.3314849438,\n          -107618.75887990036\n        ],\n        \"semantic_type\": \"\",\n        \"description\": \"\"\n      }\n    },\n    {\n      \"column\": \"p_loo\",\n      \"properties\": {\n        \"dtype\": \"number\",\n        \"std\": 1854.4752729107645,\n        \"min\": 2.7366860285546863,\n        \"max\": 4915.67213935779,\n        \"num_unique_values\": 7,\n        \"samples\": [\n          2.7366860285546863,\n          2.981640085345134,\n          12.755289614928188\n        ],\n        \"semantic_type\": \"\",\n        \"description\": \"\"\n      }\n    },\n    {\n      \"column\": \"elpd_diff\",\n      \"properties\": {\n        \"dtype\": \"number\",\n        \"std\": 5889.469852512601,\n        \"min\": 0.0,\n        \"max\": 15375.861470004955,\n        \"num_unique_values\": 7,\n        \"samples\": [\n          0.0,\n          0.16679001239629088,\n          10553.594184968972\n        ],\n        \"semantic_type\": \"\",\n        \"description\": \"\"\n      }\n    },\n    {\n      \"column\": \"weight\",\n      \"properties\": {\n        \"dtype\": \"number\",\n        \"std\": 0.3779621579885263,\n        \"min\": 2.3393037507091208e-09,\n        \"max\": 0.9999947500151379,\n        \"num_unique_values\": 7,\n        \"samples\": [\n          0.9999947500151379,\n          5.231328875515551e-06,\n          4.0747720779963516e-09\n        ],\n        \"semantic_type\": \"\",\n        \"description\": \"\"\n      }\n    },\n    {\n      \"column\": \"se\",\n      \"properties\": {\n        \"dtype\": \"number\",\n        \"std\": 271.1628930868687,\n        \"min\": 61.37870303928481,\n        \"max\": 819.0460866154231,\n        \"num_unique_values\": 7,\n        \"samples\": [\n          61.399882038815996,\n          61.37870303928481,\n          129.4583658414743\n        ],\n        \"semantic_type\": \"\",\n        \"description\": \"\"\n      }\n    },\n    {\n      \"column\": \"dse\",\n      \"properties\": {\n        \"dtype\": \"number\",\n        \"std\": 274.8227961049048,\n        \"min\": 0.0,\n        \"max\": 785.1187163155587,\n        \"num_unique_values\": 7,\n        \"samples\": [\n          0.0,\n          0.023620635774833004,\n          104.95312363392755\n        ],\n        \"semantic_type\": \"\",\n        \"description\": \"\"\n      }\n    },\n    {\n      \"column\": \"warning\",\n      \"properties\": {\n        \"dtype\": \"boolean\",\n        \"num_unique_values\": 2,\n        \"samples\": [\n          true,\n          false\n        ],\n        \"semantic_type\": \"\",\n        \"description\": \"\"\n      }\n    },\n    {\n      \"column\": \"scale\",\n      \"properties\": {\n        \"dtype\": \"category\",\n        \"num_unique_values\": 1,\n        \"samples\": [\n          \"log\"\n        ],\n        \"semantic_type\": \"\",\n        \"description\": \"\"\n      }\n    }\n  ]\n}"
            }
          },
          "metadata": {},
          "execution_count": 29
        }
      ]
    },
    {
      "cell_type": "code",
      "source": [
        "cmp_2 = az.compare( {\"v0\":idata_v0, \"v2\":idata_v2} )\n",
        "cmp_2\n",
        "az.plot_compare(cmp_2)"
      ],
      "metadata": {
        "colab": {
          "base_uri": "https://localhost:8080/",
          "height": 282
        },
        "id": "hkGu-4jHq_d1",
        "outputId": "bd4c1e6e-0b01-4856-aa22-c6b698b6d0d5"
      },
      "execution_count": 26,
      "outputs": [
        {
          "output_type": "execute_result",
          "data": {
            "text/plain": [
              "<Axes: title={'center': 'Model comparison\\nhigher is better'}, xlabel='elpd_loo (log)', ylabel='ranked models'>"
            ]
          },
          "metadata": {},
          "execution_count": 26
        },
        {
          "output_type": "display_data",
          "data": {
            "text/plain": [
              "<Figure size 600x200 with 1 Axes>"
            ],
            "image/png": "[encoded data removed]"
          },
          "metadata": {}
        }
      ]
    },
    {
      "cell_type": "markdown",
      "source": [
        "Yay! My predicted model (v0) did the best! Considering the very very marginal difference between v0 and v2, I'm guessing that the heirarchy between budget and gross revenue was very significant to their sucess. The only difference between them is that v2 included runtime as a predictor which, as I suspected, didn't seem to have much of an impact at all.\n",
        "\n",
        "Another interesting thing worth noticing is how the models seem to be \"grouped\" into individual eldp_loo values. For example, the eldp_loo values for v1 and v2 have a difference of less than 1 between them. Same with v5 and v4 as well as v1 and v6. However, v3 seems to be an outlier, performing abysmally in comparison to the others."
      ],
      "metadata": {
        "id": "RSupnuXroxOq"
      }
    },
    {
      "cell_type": "markdown",
      "source": [
        "**Final Causal Diagram**\n",
        "\n",
        "It's the same as beofre becuase my predicted model ended up being the best!\n",
        "![Screenshot 2025-01-30 12.20.23 PM.png](data:image/png;base64,iVBORw0KGgoAAAANSUhEUgAAAnkAAAFRCAIAAACHfCwwAAAAAXNSR0IArs4c6QAAIABJREFUeJzt3XlcVPX++PHPzLAvooALmwsqIiIoAzKDtrim5pZbWpqmmVtZP2+5ZIuWlS1maotZaZvZoq1etdJut5QZoMFScYdAdgRkX2aA+f1x+pJX0dA4HJbX89EfcDxzzntQe3nmcwZUVqtVAAAA2aiVHgAAgBaO1gIAIC9aCwCAvGgtAADyorUAAMiL1gIAIC9aCwCAvGgtAADyorUAAMiL1gIAIC9aCwCAvGgtAADyorUAAMiL1gIAIC9aCwCAvGgtAADyorUAAMiL1gIAIC9aCwCAvGgtAADyorUAAMiL1gIAIC9aCwCAvGgtAADyorUAAMiL1gIAIC9aCwCAvGgtAADyorUAAMiL1gIAIC9aCwCAvGgtAADyorUAAMiL1gIAIC9aCwCAvGgtAADyorUAAMiL1gIAIC9aCwCAvGgtAADyorUAAMiL1gIAIC9aCwCAvGgtAADyorUAAMiL1gIAIC9aCwCAvGgtAADyorUAAMiL1gIAIC9aCwCAvGgtAADyorUAAMiL1gIAIC8bpQdAa2G1Wg9HR6tUKqUHQX1ZrdaQkJA2rq5KDwI0e7QWjSQuLi7adNqnc4DSg6C+crNT8/Ivjh87RulBgGaP1qLxePn69+wTofQUqC97Byd7dZ7SUwAtAeu1AADIi9YCACAvWgsAgLxoLQAA8qK1AADIi9YCACAvWgsAgLxoLQAA8qK1AADIi9YCACAvWgsAgLxoLQAA8qK1AADIi9YCACAvWgsAgLxoLQAA8qK1AADIi9YCACAvWgsAgLxoLQAA8qK1AADIi9YCACAvWgsAgLxoLdDAfjm4p7iooNFOdzTemHY+qdFOB+AG0Fo0b6dP/LZ88Z2XbXxx9ZLf4w0Ncvx3X3t2xADvGeMGzBg3YN60W197aVVhQf61H/Lx9o15udkNcvb6OLBv18ljvzba6QDcAFqL5q1XUD97B8fvvv2kdkt8zM+5OVmhYfoGOX5h4cUlK1746JvYj76J3bx9b4dOPg/OHm02VzbIwQG0EjZKDwD8Uw+teGHhjOEDbx3l4upWVWXZ9MLKda99IoQoKsz/5L3Xzp0+3smn8533LPbx6yaEKLiYt/vjt5LOnrC3dxh9x4xw3a3SQV559pGJ0+779IPXbxs7rV/4wDpP5ODoNHXmojjDf343RUfoBwshDD9//923O81mc9QtI2+/Y4ZKpbrsIXXucPinfYd/2pefm9OjV/D0e5c4u7QRQiSeSdiz+4OMtOSOXr63jZvWJyRCCPHHuZO7drx1ITujd9+wO+9Z7OTsKoSoqa7+Ztd7MYcP2tvb3z7xHvm/wAD+Ka5r0ex5tO84ZebCLRtWCyF2vPvqkJF3dPL2KykuXHLv2G49ey9fs3nQ4NEPzx13PvmsEGLn9k2du/V8cNnzk+6e/9Kah08nHJEOsverHevX/mvIyIkBvUOufTq3tu4F+ReEELt2bPn68+2zFyxfsuz547/FvLh6yWV71rlDyh9nov+7f/yUe5c+vl6lVq9Zdp8QorSkaNniqbeOGL9s9aZbh4/PzkgVQpw8bnp6+bwRY+9cvmZzGzf3RTNHmisrhBCPPTzj2BHjA48+O3fxqq8/3fbT91/J9qUF0DC4rkXjyb+QKdORJ901/76pt/z0w9c/ff/125/+Rwjxxc63R99x9/DRU6QYP7p64/tbXnxi3dsLl66RHtLJ22/KjIXGQwd69ekvhCguvLjymde9fbte+0RZ6edjDh1Y8PBqs7ny8w/f/OjbOFtbOyHEiqdfm3/X0Mz0FC+fLtKeV9uhS7eAR5/aKO0zd/Fj42/tabVay8vLNGpNYJ/+9g6OHu07Sr/61qtrHn9+S/eAYCHEpLvuv5Cd8cPeXV26BeRfyHp+04/SJfLT69/T93aW6asKoKHQWjSGkydP/vLLL4Vl1pyM5A7ef9OzG6BWqx95asO9kwZt2XHAxsZWekn2SNwv8bG/SDuYKyuk+5XOnjr68baN5WWlQqU6Gh99+x0zpR1c3dpdLbTvbF77u+mw1Wo9EneovKzk8ee3enbwSktJTE46/cTSWbW7ZaanJCeerm1tTmZanTt07OT78faNR+ONao1GCJGVkWoxV3q27zRuyux7Jug6+weE9NeNnTy7bTsPw8/fOzj+1dG0lMSoW0ZWVVn6RQyqfbFardFc+cI1gKaG1kJep0+fNplMtra2AQEBBRZXOUIrCeob7uLq1j9ikPSpu0eHB5c/L13XXuqJpbNefnOXb5fuQoh9X+9MOpsgbbe1tb3akQePmDBqwl0qlSo4dMCBvbv0N40QQri18/DvGbRu886rPepqO+zZ/UFmesq61z5Rq9VCiEnDgqTtM+5bOuO+pZnpKT8f3LNo5m0f7/m1V5/+y57a6O7Z4dKH/3zg2/iYny/dYrVa6/cVAqAY1mshlzNnzuzcufPo0aM6nW7KlCkdO3aU+4wajab247GTZ72zaW1GWrL06U8/fJ2bk1lTXV1WWty+o7cQoqam5qtP36nPYbv3Cg7oHdozMGTCnXP9A/rseHeDEMK1TduA3qFvb14r7VNUmP/Dvz+79FFX2yEvN8vLp4sU2hPHfpXeGltUmH/yuEkI4eXTZdzkWQUXL9TU1Ey66/6nV9xXWVH+5/1Qn79XXV0VOWhYwtG42uv16J+/a6Av3rUUFhYWFRU1womAlorrWjS8M2fOmEwmtVodERHRo0cPRWbw7xn06OqNj/+/mRqNprSkODh0QOTAoWqNZsnydUvmjHH37GgxV0r3+l6XBx5ZO2/6kAj94F59+q985vXNLz5215hwRycni9n8wLLnLtu5zh0mTr//2ccWPLpoilql9vLt0rV7oBCiqODilg2rCy7mOTm7lJYUP7TiBbVaPX7KvZUV5XOm3Ozs7FJYeHHC1DlqtcbewWb9W1+se2JxeVmZWq3u3qvPnbMeaLgvW91OnDgRExOj1+sjIyPlPhfQIql4AQoN6OzZsyaTSaVSabXayyobGxt7Oq2sV9+Gedtr/VksZo1ao77kkle6ccnOzr6hTlFZUW7v4HhdO1RXV6lUaunq9m8PVefGqiqLWqW+7Hk1rPOJCS7qvJEjhgshCgoKoqOjc3JyoqKiAgIC5Dsp0CJxXYuGce7cufj4+JqaGq1W27NnT6XH+Yt0G/BlGjC0Qohrh7bOHTSauv/q1XmoOjdKt4A1mrZt244ePTo5OTk6OvrkyZN6vb5Dhw71eBwAQWvRABITE00mU3V1tVar5YqnZevatWvXrl3j4+N37doVHBys0+ns7Or4pwyAy9Ba3LjExMT4+HiLxaLVanv16qX0OGgkYWFhQUFB0dHR27dv1+v1ISF/890/ANBa3IikpCSTyWSxWMLCwgIDA5UeB43NwcFhyJAhgYGBRqNRekm5c+fOSg8FNF20FtcnOTnZZDJVVFRotVoq28p5e3tPnDjxxIkTBw4c8PX11ev1rq6uSg8FNEW0FvUlVbasrCw8PLx3795Kj4OmIigoqHfv3gaDYdu2bXq9fsCAAUpPBDQ5tBZ/LyUlxWQylZaWarXaoKAgpcdBk6NSqaKioqSXlD/44AO9Xt+k7kUHFEdrcS1SZUtKSrRabZ8+fZQeB02au7v76NGjk5KSDAaDtIjbvn17pYcCmgRai7qlpqaaTKaioqKwsLDg4GClx0Gz4e/v7+/vHx8f/9lnn4WEhOh0umt8r2mglaC1uFxqamp8fPzFixfDw8OpLG6MdIO6wWCQ3hfUt29fpScClERr8Ze0tDSTyXTx4sWwsLDx48crPQ6aNycnp6FDh0q3TUkvKfv5+Sk9FKAMWgshhEhPTzeZTHl5eVqtlsqiAXl7e0+aNCkhIeG7777r0qWLXq93cXFReiigsdHa1i4jI8NkMl24cEGr1Y4bN07pcdAy9enT59L3BUVEXPdPWAKaNVrbemVmZppMpuzs7PDw8LFjxyo9Dlo4tVo9cOBAaRH3ww8/1Ol0vC8IrQetbY2kymZlZWm12jFjxig9DloRDw+PMWPGJCYmGgyGU6dO6fV6T09PpYcCZEdrW5esrCyTyZSZmUlloaDu3bt3797dZDJ98sknoaGhUVFRGjl/EC+gOFrbWmRnZ8fHx6elpWm12ttvv13pcQAhfUvt2kVc3mCGFozWtnw5OTkmkyk1NVWr1Y4aNUrpcYC/ODs7Dxs2LD09XXpfUFRUlI+Pj9JDAQ2P1rZkOTk58fHxKSkpWq125MiRKpVK6YmAOvj4+EyePPn48eN79+7t2rVrVFSUs7Oz0kMBDYnWtkwXLlwwmUwpKSlhYWEjRoxQq9VKTwT8jeDg4Nr3BUVFRWm1WqUnAhoMrW1p8vLyTCZTUlKSVqsdPnw4t5ygGdFoNIMGDerdu3d0dPSJEyeioqK6d++u9FBAA6C1LYdU2XPnzoWHh8+bN4/Kopny8PAYO3bsuXPnoqOjT506pdPpPDw8lB4K+EdobUuQn59vMpnOnj2r1WrnzZvHj1VBC9CjR48ePXrExcV9/PHHYWFhOp2Ofz6i+aK1zZtU2TNnzlBZtEgRERHSIu57772n0+n4Icpopmhtc1VQUGAymU6dOhUWFjZv3jw7OzulJ/p7aUknqs0VSk+B+sq7kNmjq/I/7N3FxWX48OGpqalGo1F6SZn3BaHZUVmtVqVnwPUpKCiIj49PSEgIDw/XarXNorKSY8eOKT0Crk+3bt2a1I/lOXbsmNFo9Pf31+v1Tk5OSo8D1BetbU4KCwtNJlNCQkJYWJhWq3VwcFB6IqCxWSwWo9F49OhRnU7H+4LQXNDa5qGoqMhkMh07dkyr1YaFhTk6Oio9EaCkCxcuGI3GoqIivV7v7++v9DjA36C1TV1xcbHJZPr999+1Wq1Wq6WyQK2zZ89GR0d7enrq9Xp3d3elxwGuitY2XSUlJSaT6ciRI1JlWZ0C6hQXFxcdHR0REaHX6/lGpGiaaG1TJFU2Pj5eqizfGxa4tuLiYoPBkJqaqtfrg4KClB4HuBytbVpKS0tNJpPJZJLWZZvULaBAE5eamhodHW1ra6vX6728vJQeB/gLrW0qysrK4uPjTSZTv379tFotlQVuzNGjRw0GQ8+ePfV6Pfc3oImgtcorLy+XrmVDQkLCw8NdXV2Vngho3iwWS3R0dEJCgk6nCwsLU3ocgNYqqry8XLqW7du3r1arbdOmjdITAS1HTk6OwWAoLS3V6/XdunVTehy0arRWGRUVFdK1bHBwsFardXNzU3oioGU6c+aMwWBo3759VFRU27ZtlR4HrRStbWxms1mqbFBQUFhYGH/5gUYQExNjMBgiIyP1er3Ss6A1orWNR6psfHx8r169wsPDqSzQmIqKigwGQ3p6elRUVGBgoNLjoHWhtY3BYrFI17K9evUKCwvjG9wASklJSTEYDPb29nq9vlOnTkqPg9aC1sri0KFDf/zxx8yZMy0Wi3T3U8+ePbVaLZUFmoLff//dYDAEBgbqdDp+hgcaAa1teEePHn3//ferq6tHjRqVlJTUvXt3rVbr4eGh9FwA/lJZWWkwGE6cOBEVFdWvXz/pLiobGxt+kgHkQGsb2MmTJ999992MjAwhRJ8+fRYsWEBlgSYrOzvbYDBUVFTodLrt27eXlZUtX77c09NT6bnQ0qiVHqBFOXfu3LZt26TQCiEyMzMrKyuVHgrAVXXs2HHChAn9+vX79NNPMzMz09PT33//fYvFovRcaGlsGvl8xcXF6enpjXzSxlFRUbF161YhhLe3t6urq6urq42NTVFRUVFRkdKj/VMNddPmqVOnGuQ4aDS+vr6t4duFenl55eTklJaWSmtAO3fuvOeee4QQ+fn558+fV3o6XB9pRaCpaezWHvzx4PmMPzw6tMyXVftFhjg42ms0mtotpoRYRSdqAGkp6SUlw8PDw//hcWJjY3/4KbaTT9cGmguyy8/NCvDvNH7sGKUHkZ2Dg4Narfb29jabzcXFxYcOHXJ2dp40adKB776rzMnp0K6d0gOivs6kpalUqtDQUKUHuVxjt9be3r5XSM9uAfwPt9mwi7NrqEN17hHcqy/fSaDZOJ+YYK/OU3qKxmBvb//SSy9VVFRcuHAhNzc3KSlJupx1cnQM9Pfv7u2t9ICoryZ7/1FjtxYAmiYHBwc/Pz8/P7/+/fsrPQtaGu6NAgBAXrQWAAB50VoAAORFawEAkBetBQBAXrQWAAB50VoAAORFawEAkBetBQBAXrQWAAB50VoAAORFawEAkBetBQBAXrQWAAB50VoAAORFawEAkBetBQBAXrQWAAB50VoAAORFawEAkBetBQBAXrQWAAB50doGYzFb9n61X+kpAABNjo3SAzQJh36KfnbVOldXV+lTe0f7sRNHT505+boOUl5esenF10dPGHkDA5SXlZsrzW7t3G7gsa3c3q92fP3Ztot5FywWc2Bw2Kz7HwkMDpPvdAtnDM/OTHNydhVCuLV1H3zbhAl3zrWxsZXvjEB97D906JX33y8pLVWpVH169PjX7Nm9unVTeij8hdYKIURFeUVoWMi6zWulT/PzLj66cIWNre3EaeMbZ4Afv/vpN9PRVWuXN87pWow1y+bmXsha+czrXbsHVlVZjv8W+95bLz376ocajVx/sIuLCl//YL+XTxchRH5uzuvrHz93+viKp1+T6XRAfRw7c+bxTZu+3LTJr1MnIUT0kSPFZWVKD4X/QWvr4O7R7o5p42Oj46TWvvzMhvkPzXNt4yL96o5tOwdERfQM7CGESDyTtPO9TzPSMgODe02+a2LtEaqrqj/bsdvwc4ydnc2o8SNtbW3VGvWgW6OEEIUXC9/b+uGZE2e9/bzvmXe3XxffPV/s/deC5UKI3JzcQYMHTpo+Qbmn3mB27dpVVlY2ePBgPz8/mU7x/Z5P084nvrXjoFqjEULY2Nj2Cx/YL3yg9Ks/7v+inUeHxDMJ55PPLl31shDiV+NP+77aUVpSHBQSPmXmQkdHZyFE4pmEPbs/yEhL7ujle9u4aX1CIq7ccrUB3D07rFr75u03dVv6+Ho7O/ua6uovP303zvAfJyfnsZNn948YdOxITNK5E+On3Fv7kJ3bN900dIxvZ3/Dz99/9+1Os9kcdcvI2++YoVKphBDvvvbsqAl37/3yozMnj3p26DR99hK/rj2EECePm86ePDZuymzpIPm5Obt3bp334ONCiCtPKtNXuzXYsGFDYGBgv379vLy8lJ7l+sQcOzZy0CAptEKIqP79a3/pj7S0rZ9//kdaWmdv70XTp3f19hZCJJ4/v3XXrvMZGf5+fvOnTu3s5SWEOJWUFP3bb529vHbu3bv+0UfbtmlzKilp665dmTk5/YOCFk2b5uLkpNxTbPZYr61DUWHxv7/cd9OQP/+39cuPhysrKmp/9civv1/IyRVCHI0/NvfO+TcPvenpl5/sHRy4eNZD1VXV0j6LZi05cfTkI088/PDKJYd/Mjz5yJrkxBQhRHFRyZw75/fs1WPNS08MHnHLfdMWJCemDLnt1seeWTZ6wshVa5ePHDtcoSfdwNLS0vbv379+/frnn3/eYDDk5+c3+Cn2f/PJwqXPSKG9UuLZE8+uWlBeVjJx+jwhxBc7337j5Semzlz0yJMbamqq5981rLKivLSkaNniqbeOGL9s9aZbh4/Pzki9csu1Z1BrNI6OzsWFBUKIx5feU5B/Yemql++a89Cbrzz5/Z5Pewb2/fDt9ZUV5dLOBRfz9n2z08ev264dW77+fPvsBcuXLHv++G8xL65eIu3wq/GnVQ/NCOgd+vBjL/YJHfDA7FFlpcVCiJys9BPHfq09aVlpcdzhg9LHV560gb66rVFWVtaHH3744osvvvzyyzExMQUFBUpPVF+Rfft+/eOPB43GmpqaS7f/durU7QsX3hIR8cry5QP797//qaeqa2p+O3Vq7OLFQ3W6V1eujAwJuW3evDPJyUKICxcvrn/vvc+/+27htGmuLi7xJ07MX7166m23vbpypXubNqMXLKgwm5V7is0e17V/+mb3npQ/zkuXpL/HH9XfFBkZddULGsnGF15fu2GNdLU6fPTQstKyZYsfE0LEGUwWs+WZ9U9Juz257rEd23ZKH3/y/mcTpo6T1nQ9O3g+9cLjb218+/lNaz07eEr/yf9Er1vyuZSTv54xGAxCCKvVarVaaz9QqVTSBdmVH2RkZAghcnJycnJyTp486ejoOGnSJCHsGnCwrIzUzt16XrZx/zc7bx0+3sHRSQjRt1/kzHn/EkJYLObtb67b8W1cGzd3IcTsBcvzLmTv+2bnoMGjNWpNYJ/+9g6OHu07CiFyL2RdtuXaDv+0z8nZ1aN9x4Tf42qqq+c+sEoI0aGTz/q3vph/19ARY+4cctsd+77ZOWHqHCHE7h1bJk6fZ7GYP//wzY++jbO1tRNCrHj6tfl3Dc1MT5Fel542+4Gbh40VQnj7do09fDDO8J9bho272tmvdtKG+Or+KfrwofPJf0i/s9IW6Q/AZf52Y+3Db+wIf/vwax/h0odfY8+KigohRHZ2dnZ29rFjxxwcHMaOGlXnuZqavgEB29au3fD++0ueey4iOHja6NEjBw0SQjz9xhubV60aqtMJIcYPGTJu8GCVSnXpxnGDBwurdd0772xbu1YIoRLijSef1KjVQohntmx548kn+/ToIYS4b/LkjJyc3d9/f/eYMUo/1+aK1v5p3KQxteu1Vqv131/umzttwef7P77GQ86eOjsgKrz205uH/nkdnJyY3Cc06NI9u/h3KSstE0KcPnnmV4MpLvrPa5TKykrpErkp69qjS7cOPcLDw+ux7182b96clpbm5ubm4uISFhYWERGRn5+fXdKQa0genh2yM1M923e6dONH72yI0A+RWlt7k1R2RmqHTj5SaCX9IwbFx/4yYeqccVNm3zNB19k/IKS/buzk2Z7tO122pW07j0uPX15W8tzjizp5+1VXVR3Yt7tnYN91m3cKIc6dOX74v/tXPDi9ds+M1OTy8tIpMxYuvf+OCVPnmM2VB/d/8d7uwzmZaclJp59YOqt2z8z0lOTE01JrewaG1G738ulSePFarwdc7aTSy+MNImrgoJEjWshrLX9r5cqVQoj27du7u7sPHDgwODj4V6NR6aHqKyI4+OOXXqqqro4+cuS5rVsPxcevXbLk+Llzg8L+ulVQ+jfHZRsHhoWtfest6eOQXr2k0AohfoiOdnJwqN0tKS3ttoEDG/EJtTS0tg4qlWrMxNHr175aeLHQrZ2bvb19aUlp7UVnbvafdXT3cM9Mz+rSrbP0aUZalvRBF/8u+7/94dIDpiSlODk7CSE823sse+pfN3avcvNia2sbGRk5dOjQgIAAOzs7IURsbGzDnuLWERO2v/nCy2/uuvoMf15Gu7XzyL2QJV2IS1tystLbebQXQsy4b+mM+5Zmpqf8fHDPopm3fbzn1yu3XHpMtVoz+e75Xj5dNBqNjY1tRy9f3y7dhRDuHh3GTJy5fM3my2ZwdHT27xkUe/hgVkbqrSMm2Nk7uLXz8O8ZJBX6Spe9JG4VViGEnZ1DWWlJ7ca83Gzpg6udFDfG1dV13LhxAwYM8Pf3V3qWG2Sj0dwcHh4WFBQ8fvzaJUs6uLtn5OR08/W9dJ8O7u7p2dn+/3cjRXpOTnv3P/8Zamv71x31/QIDN6xY0cHdXaAhsF5btyNxv6lUKulNOKHavrt3fiVtj489EhsdJ308ZcbEdU+9bDabpTf8vPr8pjZurkKICL1WCLF62dqMtMzM9KxnH3+hbbu20kMm3XXH5pfeSDufLn36w96DOVk5Qog2bq65Tf4C97osWLDgoYceCg4OlkIrhwl3zqkoK31u1cKS4kJpS25O5tlTR6/c07VN237agR9sfVn6NCMt+Yudb4+ecHdRYf7J4ybpCnLc5FkFFy8UXMy7bMtlC2D2Do4BvUMDeod2DwhetmZT9M/fHTsSI4SIHDTsd1N09M/fSbslnjl+JO6Q9PH02Q/u3L5p986tU+5eIA0T0Dv07f97EaWoMP+Hf3927WfaK6ifKea/uTmZQoiqKsuHb6+Xtl/jpLgBjz766LRp05pjaD/bv//HmJjaT380GoO6d5de+33wuefKKyuFEMWlpWu3bKmuqblv8uSVGzZUms1CiLKKisc3bpw3uY73N943efL81aulx1bX1Lz/9ddV1dWN+7RaFK5r//TzwV+mj7lH+thqtTq7OL/+/kbp0weXLV7+wGOjBo5zdXXtHtBt3OSx0va77p1WXFQyYciUtu3aVlmqFv1rfmpKmnRZvOXDzTu27Xx6xbO2trajxt/m2sbF2cVJCNGzV4+n1q1aev8ytUZdUlzSLzx04C16IUTkoAHvvP7e3eNmuXu4b96+QbkvQ3Oi0dhseOfr7W++MGtilIurW1lJsWubtq9s/bLOddaVz7y+cd3yu8dGODk719TUrHr+LS+fLmkpiVs2rC64mOfk7FJaUvzQihdKigou26JWX/XfozY2tk+9+O6KB6a//cmPzi5t1r/1xUtrHn7r1TXWmhq3dh61bwQKDA7LzDjfK6ifdCUtDbP5xcfuGhPu6ORkMZsfWPbctZ+pu2eHh1e+MP/uYW5u7kIlJt+94KtP3hFC2NnZX+2kuAGXXtU1L/p+/Va//vqKV15p7+5eUlra3t1965o1QojZEyZUVFYOnj3b2dExr6DgoZkzNWr17AkTysrLb5k1y9XZuaSsbP7UqROGDr3ymLWPdXFyulhUdO8dd2iu/ncBf0t1tRsNZLJv/z61a3W3gK6NedIGUWWpUqlUGps67nqtrKy0t7e/dEt5eYWj419LHXOm3P/wygdDwvrWbrGYLWqNRqP5nz+7FrPF1q7J/W3/Pe74DazXXik2NvZ0WlmvvvoGmut/lJeVaGxs7ezsr72b1Wq1WMxX7lZZUW7v4HjtLfVUU11dXVNd+/L1tV3vWa62/3WdtP7OJya4qPMORH3GAAALeElEQVRaz3rtlfZ89VVnjaa7t7fSg9SL1WotKStzdHCwueLm/PLKSkf7y//YV5jNDvV42anOxzZZvyQkeIWGhoaGKj3I5biurS8b26t+reyv+IO4cMYDfl39tJH97e3t/3vgF1c310tDK4Sos6lNMLTNhaOTS312U6lUdfb4yoDdWGilBdervQ2pPue9sf2v66RoqVQqlatz3bfF1RnL+oT2ao/F9aK1snj3s62GX4wnjp5Ua9RjJo2W3hcEAGidaK0sNBr1oFujSCwAgPuQAQCQHa0FAEBetBYAAHnRWgAA5EVrAQCQF60FAEBetBYAAHnRWgAA5EVrAQCQF60FAEBetBYAAHnRWgAA5EVrAQCQF60FAEBetBYAAHnRWgAA5EVrAQCQF60FAEBetBYAAHnRWgAA5EVrAQCQl00jn6+ysjI3L9tstjTyeXHDstKyu3Xo0SCHyslIsbVzbJBDoRFcyDrfuWOr/v0qKy9PyMvLLSpSehDU1x+ZmV6hoUpPUQeV1WptzPPl5ub+9ttvNjaN3XjcsKrqqptvutnOzu4fHsdsNv/351/4rW9Gqqqq+vfv7+nhrvQgjS0/Pz8vLy83N/fw4cM333yz0uPg+gwYMEDpEerQ2K0FgCbriSeeMJvNVVVV5eXlRUVF4eHhDz/8sNJDoSXgIgMAhBCioqLCYrGkpqZKn4aFhS1atEjpodBCcG8UAAghRE5Ojo+PT5s2bYQQ/v7+s2fP/udLJ4CE61oArV1BQYHRaMzIyBg6dGhJSUlmZubcuXM9PT2VngstB60F0HrV1NQYjcbY2FidTjdy5EghhL29fVlZWbdu3ZQeDS0K90YBaKUSEhIMBkPnzp11Op300jEgE1oLoNU5f/680WhUq9U6nc7X11fpcdDy8RoygFZEWprNzMyMjIwMCgpSehy0FlzXAmgVrFarwWCQlmZ1Op3S46B1obUAWr7jx48bjUaWZqEUWgugJUtNTTUajSqViqVZKIj1WgAtU+27ZnU6HUuzUBbXtQBaGqvVajQajUajtDSrUqmUngitHa0F0KIkJCQYjUY/Pz+WZtF00FoALYS0NCuE0Ol0fn5+So8D/IX1WgDNXmFhodFoTEtL0+l0ffr0UXoc4HJc1wJoxqxWa0xMjMFgYGkWTRmtRePJyclRegRcHycnJxcXF6WnuCppadbX11en07m5uSk9DnBVtBaNJDY29t/7/9O+o7fSg6C+Ci7m9u3Tc/zYMUoPUgfeNYvmhfVaNJ4ewZG9+uqVngL1dT4xwV6dp/QUlysqKjIYDCzNonmhtQCah0vfNTtnzhyWZtGM0FoAzcCJEyeMRqOPj8+cOXNYmkWzQ2sBNGm175odPnw475pFM0VrATRRRUVFRqPx/PnzOp0uODhY6XGAG0drATRF0tJsZGTk3LlzWZpFc0drATQt0tKst7f37Nmz27Ztq/Q4QAOgtQCairS0NKPRWFNTM2zYsM6dOys9DtBgaC0A5RUVFcXExKSkpLA0ixaJ1gJQmLQ0O2DAgDlz5qjVaqXHARoerQWgmNp3zbI0i5aN1gJQQHp6usFgYGkWrQStBdCoeNcsWiFaC6DxxMTEGI3GiIiIe++9V6PRKD0O0EhoLYDGUPuu2VmzZrE0i9aG1gKQV3p6utForKqqGjp0aJcuXZQeB1AArQUgl+LiYqPRyLtmAVoLQBbS0mx4eDhLswCtBdDATp48aTQaO3XqdM8997Rr107pcQDl0VoADebSpVneNQvUorUAGoC0NJucnKzT6fr27av0OEDTQmsB/FO1S7Nz5sxhaRa4Eq0FcONOnTplMBhYmgWujdYCuBG1S7NDhgzhXbPAtdFaoGH8avwpqK/WydlV6UFkV1JSYjQa//jjj8jIyJCQEKXHAZoBWgsIIUTMoQOPPXS3l08XIYSNjW23HoGz5j/atXvgNR5SWJBvb+/g4OgkffrZB2/MXbyyV5/+jTWyMliaBW4ArQWEEKKiouyWYWOffOEdIUR1ddWvhp+W3n/Hxne/9eva42oPefOVJ/U3j7hl2Djp0xff+KwR51XAqVOnjEZjhw4dZs6c6e7urvQ4QHNCa4HLaTQ2kYOGTZ25aO9XO+Y//JTFYt6z+4NjR4zmysqIgUPGTpqlVqvfenXNl5+88+8vPrxl2Ljp9y7pExrx7mvPjp86x7OD1x/nTv5uivbp7L/3y4/KSkv0N48YP3WOSqWSKv71Z9vjDP+xtbUbNmqSjZ2dRq2JHDRM6Wf8NzIyMoxGo8ViGTx4MEuzwA2gtUDd3Np6JCedFkIc3Le7rKxk1oJlGrVm4wsrKspK75z1wPR7Hzx35rj+phG3DBvn6tZWWq8dOnqyZwevi3kX3t68dtDg0bPmP2qxmDetW1FSXDjjvqVCiEcXTmnfwWvxI2vVavWOd1/95cc9M+f9qym3tqKi4sCBA0lJSTqdjqVZ4IaplR4AaIrMlRVff75NquDIcdPvnvNwl24Bvl26L1r6dPTP3wkh2ri5e3h29Gjf0aN9Rzs7+8se7uTksuLp17p2D+wZGLJ8zeb933wihDgSd8hiMa9c+4ZvZ39v366PPvVqdmaaQs+vXizmilij0cHBYc6cOYQW+Ce4rgX+9MO/P9fY2AghkhNPnUr47b4HVg0eMUEIUXAxb9sbz2dnpKrU6pystIry8r89VI/AvtKLxkIIL98uhQV5QojzyWd7B4dduptf1x5lpSWyPaF/ytbOQT9w4KBBg5QeBGj2aC3wpz6hEVNmLBRClBQXPff4wnGTZ0vbNz6/LOqW25auelkIkZOVvuLBaX97KI36f27QtVqtQgi/Lj1+3P/FpdtTk885Obs09PNoSLa2tkqPALQEvIYM/Mnbt2tA79CA3qFhA256cNlzz6y8X9qel5vt09lf+vjrz7dXVVVJH7u2aZt3Ibv+x+8fMUgI8eLqJVkZqdmZaa88+4hbW+7mBVoFrmuBOtwybNzh/+z7/KM3p8xY+NCKdS8/s7RtO0+LubJvf52NzZ9/a8ZOnrXigWkH9+0Oi7x57uLH/vaYKpXq5S27d3205aU1D9na2g0dPcnF1a01fO8LACrp1S1AbrGxsafTynr11Ss9yA2yWMy2tnb1316nivKy2u99IYR48N7bF/y/1X1CIhpuzIZ0PjHBRZ03csRwpQcBmj2ua4F6uVpQ6x9aIcQjCyb5+HULDR9oZ2cf/d/9rm3aNtnQAmhAtBZoPJu27Ykz/OdUwhGNRnPb2GlN+Z21ABoQrQUaj1qjiRw0jMQCrQ33IQMAIC9aCwCAvGgtAADyorUAAMiL1gIAIC9aCwCAvGgtAADyorUAAMiL1gIAIC9aCwCAvGgtAADyorUAAMiL1gIAIC9aCwCAvGgtAADyorUAAMiL1gIAIC9aCwCAvGgtAADyorUAAMiL1gIAIC8bpQdAK1JYkJuTmaL0FKivgvwcW9cqpacAWgJai0bSuXPn4wmnSrOPKz0I6ktdWRIYMVDpKYCWQGW1WpWeAQCAloz1WgAA5EVrAQCQF60FAEBetBYAAHnRWgAA5EVrAQCQF60FAEBetBYAAHnRWgAA5EVrAQCQF60FAEBetBYAAHnRWgAA5EVrAQCQF60FAEBetBYAAHnRWgAA5EVrAQCQF60FAEBetBYAAHnRWgAA5EVrAQCQF60FAEBetBYAAHnRWgAA5EVrAQCQF60FAEBetBYAAHnRWgAA5EVrAQCQF60FAEBetBYAAHnRWgAA5EVrAQCQF60FAEBetBYAAHnRWgAA5EVrAQCQF60FAEBetBYAAHnRWgAA5EVrAQCQF60FAEBetBYAAHnRWgAA5EVrAQCQF60FAEBetBYAAHnRWgAA5EVrAQCQF60FAEBetBYAAHnRWgAA5EVrAQCQF60FAEBetBYAAHnRWgAA5EVrAQCQ1/8HdoWlaDUeksQAAAAASUVORK5CYII=)"
      ],
      "metadata": {
        "id": "QAgnOs9ryv4-"
      }
    },
    {
      "cell_type": "markdown",
      "source": [
        "**References**\n",
        "\n",
        "Research- https://www.statista.com/outlook/amo/media/cinema/worldwide#:~:text=in%20the%20world%2C%20revenue%20in,1.9bn%20users%20by%202029.\n",
        "\n",
        "Data- https://raw.githubusercontent.com/ThomasFurtado/Movies-Dataset-IMDb/refs/heads/main/movies.csv\n",
        "\n"
      ],
      "metadata": {
        "id": "muFQIchkZ86q"
      }
    }
  ],
  "metadata": {
    "colab": {
      "provenance": []
    },
    "kernelspec": {
      "display_name": "Python 3",
      "name": "python3"
    },
    "language_info": {
      "name": "python"
    },
    "widgets": {
      "application/vnd.jupyter.widget-state+json": {
        "e1d897ccbc874c98818251a083723277": {
          "model_module": "@jupyter-widgets/output",
          "model_name": "OutputModel",
          "model_module_version": "1.0.0",
          "state": {
            "_dom_classes": [],
            "_model_module": "@jupyter-widgets/output",
            "_model_module_version": "1.0.0",
            "_model_name": "OutputModel",
            "_view_count": null,
            "_view_module": "@jupyter-widgets/output",
            "_view_module_version": "1.0.0",
            "_view_name": "OutputView",
            "layout": "IPY_MODEL_dfdb2d6f235a40208c51d4f5946296d4",
            "msg_id": "",
            "outputs": [
              {
                "output_type": "display_data",
                "data": {
                  "text/plain": "Sampling chain 0, 0 divergences \u001b[32m━━━━━━━━━━━━━━━━━━━━━━━━━━━━━━━━━━━━━━━━\u001b[0m \u001b[35m100%\u001b[0m \u001b[36m0:00:00\u001b[0m / \u001b[33m0:00:08\u001b[0m\n",
                  "text/html": "<pre style=\"white-space:pre;overflow-x:auto;line-height:normal;font-family:Menlo,'DejaVu Sans Mono',consolas,'Courier New',monospace\">Sampling chain 0, 0 divergences <span style=\"color: #008000; text-decoration-color: #008000\">━━━━━━━━━━━━━━━━━━━━━━━━━━━━━━━━━━━━━━━━</span> <span style=\"color: #800080; text-decoration-color: #800080\">100%</span> <span style=\"color: #008080; text-decoration-color: #008080\">0:00:00</span> / <span style=\"color: #808000; text-decoration-color: #808000\">0:00:08</span>\n</pre>\n"
                },
                "metadata": {}
              }
            ]
          }
        },
        "dfdb2d6f235a40208c51d4f5946296d4": {
          "model_module": "@jupyter-widgets/base",
          "model_name": "LayoutModel",
          "model_module_version": "1.2.0",
          "state": {
            "_model_module": "@jupyter-widgets/base",
            "_model_module_version": "1.2.0",
            "_model_name": "LayoutModel",
            "_view_count": null,
            "_view_module": "@jupyter-widgets/base",
            "_view_module_version": "1.2.0",
            "_view_name": "LayoutView",
            "align_content": null,
            "align_items": null,
            "align_self": null,
            "border": null,
            "bottom": null,
            "display": null,
            "flex": null,
            "flex_flow": null,
            "grid_area": null,
            "grid_auto_columns": null,
            "grid_auto_flow": null,
            "grid_auto_rows": null,
            "grid_column": null,
            "grid_gap": null,
            "grid_row": null,
            "grid_template_areas": null,
            "grid_template_columns": null,
            "grid_template_rows": null,
            "height": null,
            "justify_content": null,
            "justify_items": null,
            "left": null,
            "margin": null,
            "max_height": null,
            "max_width": null,
            "min_height": null,
            "min_width": null,
            "object_fit": null,
            "object_position": null,
            "order": null,
            "overflow": null,
            "overflow_x": null,
            "overflow_y": null,
            "padding": null,
            "right": null,
            "top": null,
            "visibility": null,
            "width": null
          }
        },
        "4e476fc3b0e8405890e3365330ef5eaf": {
          "model_module": "@jupyter-widgets/output",
          "model_name": "OutputModel",
          "model_module_version": "1.0.0",
          "state": {
            "_dom_classes": [],
            "_model_module": "@jupyter-widgets/output",
            "_model_module_version": "1.0.0",
            "_model_name": "OutputModel",
            "_view_count": null,
            "_view_module": "@jupyter-widgets/output",
            "_view_module_version": "1.0.0",
            "_view_name": "OutputView",
            "layout": "IPY_MODEL_e28860afb0194d5b87a24eed7d5700ca",
            "msg_id": "",
            "outputs": [
              {
                "output_type": "display_data",
                "data": {
                  "text/plain": "Sampling chain 1, 0 divergences \u001b[32m━━━━━━━━━━━━━━━━━━━━━━━━━━━━━━━━━━━━━━━━\u001b[0m \u001b[35m100%\u001b[0m \u001b[36m0:00:00\u001b[0m / \u001b[33m0:00:09\u001b[0m\n",
                  "text/html": "<pre style=\"white-space:pre;overflow-x:auto;line-height:normal;font-family:Menlo,'DejaVu Sans Mono',consolas,'Courier New',monospace\">Sampling chain 1, 0 divergences <span style=\"color: #008000; text-decoration-color: #008000\">━━━━━━━━━━━━━━━━━━━━━━━━━━━━━━━━━━━━━━━━</span> <span style=\"color: #800080; text-decoration-color: #800080\">100%</span> <span style=\"color: #008080; text-decoration-color: #008080\">0:00:00</span> / <span style=\"color: #808000; text-decoration-color: #808000\">0:00:09</span>\n</pre>\n"
                },
                "metadata": {}
              }
            ]
          }
        },
        "e28860afb0194d5b87a24eed7d5700ca": {
          "model_module": "@jupyter-widgets/base",
          "model_name": "LayoutModel",
          "model_module_version": "1.2.0",
          "state": {
            "_model_module": "@jupyter-widgets/base",
            "_model_module_version": "1.2.0",
            "_model_name": "LayoutModel",
            "_view_count": null,
            "_view_module": "@jupyter-widgets/base",
            "_view_module_version": "1.2.0",
            "_view_name": "LayoutView",
            "align_content": null,
            "align_items": null,
            "align_self": null,
            "border": null,
            "bottom": null,
            "display": null,
            "flex": null,
            "flex_flow": null,
            "grid_area": null,
            "grid_auto_columns": null,
            "grid_auto_flow": null,
            "grid_auto_rows": null,
            "grid_column": null,
            "grid_gap": null,
            "grid_row": null,
            "grid_template_areas": null,
            "grid_template_columns": null,
            "grid_template_rows": null,
            "height": null,
            "justify_content": null,
            "justify_items": null,
            "left": null,
            "margin": null,
            "max_height": null,
            "max_width": null,
            "min_height": null,
            "min_width": null,
            "object_fit": null,
            "object_position": null,
            "order": null,
            "overflow": null,
            "overflow_x": null,
            "overflow_y": null,
            "padding": null,
            "right": null,
            "top": null,
            "visibility": null,
            "width": null
          }
        },
        "74d027472c7c45d7b654b8b58ee26539": {
          "model_module": "@jupyter-widgets/output",
          "model_name": "OutputModel",
          "model_module_version": "1.0.0",
          "state": {
            "_dom_classes": [],
            "_model_module": "@jupyter-widgets/output",
            "_model_module_version": "1.0.0",
            "_model_name": "OutputModel",
            "_view_count": null,
            "_view_module": "@jupyter-widgets/output",
            "_view_module_version": "1.0.0",
            "_view_name": "OutputView",
            "layout": "IPY_MODEL_1831fec2bdbd4a049259a9435ddef9f6",
            "msg_id": "",
            "outputs": [
              {
                "output_type": "display_data",
                "data": {
                  "text/plain": "Sampling chain 0, 0 divergences \u001b[32m━━━━━━━━━━━━━━━━━━━━━━━━━━━━━━━━━━━━━━━━\u001b[0m \u001b[35m100%\u001b[0m \u001b[36m0:00:00\u001b[0m / \u001b[33m0:00:15\u001b[0m\n",
                  "text/html": "<pre style=\"white-space:pre;overflow-x:auto;line-height:normal;font-family:Menlo,'DejaVu Sans Mono',consolas,'Courier New',monospace\">Sampling chain 0, 0 divergences <span style=\"color: #008000; text-decoration-color: #008000\">━━━━━━━━━━━━━━━━━━━━━━━━━━━━━━━━━━━━━━━━</span> <span style=\"color: #800080; text-decoration-color: #800080\">100%</span> <span style=\"color: #008080; text-decoration-color: #008080\">0:00:00</span> / <span style=\"color: #808000; text-decoration-color: #808000\">0:00:15</span>\n</pre>\n"
                },
                "metadata": {}
              }
            ]
          }
        },
        "1831fec2bdbd4a049259a9435ddef9f6": {
          "model_module": "@jupyter-widgets/base",
          "model_name": "LayoutModel",
          "model_module_version": "1.2.0",
          "state": {
            "_model_module": "@jupyter-widgets/base",
            "_model_module_version": "1.2.0",
            "_model_name": "LayoutModel",
            "_view_count": null,
            "_view_module": "@jupyter-widgets/base",
            "_view_module_version": "1.2.0",
            "_view_name": "LayoutView",
            "align_content": null,
            "align_items": null,
            "align_self": null,
            "border": null,
            "bottom": null,
            "display": null,
            "flex": null,
            "flex_flow": null,
            "grid_area": null,
            "grid_auto_columns": null,
            "grid_auto_flow": null,
            "grid_auto_rows": null,
            "grid_column": null,
            "grid_gap": null,
            "grid_row": null,
            "grid_template_areas": null,
            "grid_template_columns": null,
            "grid_template_rows": null,
            "height": null,
            "justify_content": null,
            "justify_items": null,
            "left": null,
            "margin": null,
            "max_height": null,
            "max_width": null,
            "min_height": null,
            "min_width": null,
            "object_fit": null,
            "object_position": null,
            "order": null,
            "overflow": null,
            "overflow_x": null,
            "overflow_y": null,
            "padding": null,
            "right": null,
            "top": null,
            "visibility": null,
            "width": null
          }
        },
        "b242965cff8e43dab5ffd19b2d18fb08": {
          "model_module": "@jupyter-widgets/output",
          "model_name": "OutputModel",
          "model_module_version": "1.0.0",
          "state": {
            "_dom_classes": [],
            "_model_module": "@jupyter-widgets/output",
            "_model_module_version": "1.0.0",
            "_model_name": "OutputModel",
            "_view_count": null,
            "_view_module": "@jupyter-widgets/output",
            "_view_module_version": "1.0.0",
            "_view_name": "OutputView",
            "layout": "IPY_MODEL_b28b3f5e29864d2d9e681e612ed2c1b3",
            "msg_id": "",
            "outputs": [
              {
                "output_type": "display_data",
                "data": {
                  "text/plain": "Sampling chain 1, 0 divergences \u001b[32m━━━━━━━━━━━━━━━━━━━━━━━━━━━━━━━━━━━━━━━━\u001b[0m \u001b[35m100%\u001b[0m \u001b[36m0:00:00\u001b[0m / \u001b[33m0:00:16\u001b[0m\n",
                  "text/html": "<pre style=\"white-space:pre;overflow-x:auto;line-height:normal;font-family:Menlo,'DejaVu Sans Mono',consolas,'Courier New',monospace\">Sampling chain 1, 0 divergences <span style=\"color: #008000; text-decoration-color: #008000\">━━━━━━━━━━━━━━━━━━━━━━━━━━━━━━━━━━━━━━━━</span> <span style=\"color: #800080; text-decoration-color: #800080\">100%</span> <span style=\"color: #008080; text-decoration-color: #008080\">0:00:00</span> / <span style=\"color: #808000; text-decoration-color: #808000\">0:00:16</span>\n</pre>\n"
                },
                "metadata": {}
              }
            ]
          }
        },
        "b28b3f5e29864d2d9e681e612ed2c1b3": {
          "model_module": "@jupyter-widgets/base",
          "model_name": "LayoutModel",
          "model_module_version": "1.2.0",
          "state": {
            "_model_module": "@jupyter-widgets/base",
            "_model_module_version": "1.2.0",
            "_model_name": "LayoutModel",
            "_view_count": null,
            "_view_module": "@jupyter-widgets/base",
            "_view_module_version": "1.2.0",
            "_view_name": "LayoutView",
            "align_content": null,
            "align_items": null,
            "align_self": null,
            "border": null,
            "bottom": null,
            "display": null,
            "flex": null,
            "flex_flow": null,
            "grid_area": null,
            "grid_auto_columns": null,
            "grid_auto_flow": null,
            "grid_auto_rows": null,
            "grid_column": null,
            "grid_gap": null,
            "grid_row": null,
            "grid_template_areas": null,
            "grid_template_columns": null,
            "grid_template_rows": null,
            "height": null,
            "justify_content": null,
            "justify_items": null,
            "left": null,
            "margin": null,
            "max_height": null,
            "max_width": null,
            "min_height": null,
            "min_width": null,
            "object_fit": null,
            "object_position": null,
            "order": null,
            "overflow": null,
            "overflow_x": null,
            "overflow_y": null,
            "padding": null,
            "right": null,
            "top": null,
            "visibility": null,
            "width": null
          }
        },
        "fdd45b7d6fa44c79b04dc6948f587319": {
          "model_module": "@jupyter-widgets/output",
          "model_name": "OutputModel",
          "model_module_version": "1.0.0",
          "state": {
            "_dom_classes": [],
            "_model_module": "@jupyter-widgets/output",
            "_model_module_version": "1.0.0",
            "_model_name": "OutputModel",
            "_view_count": null,
            "_view_module": "@jupyter-widgets/output",
            "_view_module_version": "1.0.0",
            "_view_name": "OutputView",
            "layout": "IPY_MODEL_6ca3194a658d4639aff9e4f2addfd69c",
            "msg_id": "",
            "outputs": [
              {
                "output_type": "display_data",
                "data": {
                  "text/plain": "Sampling chain 0, 0 divergences \u001b[32m━━━━━━━━━━━━━━━━━━━━━━━━━━━━━━━━━━━━━━━━\u001b[0m \u001b[35m100%\u001b[0m \u001b[36m0:00:00\u001b[0m / \u001b[33m0:00:13\u001b[0m\n",
                  "text/html": "<pre style=\"white-space:pre;overflow-x:auto;line-height:normal;font-family:Menlo,'DejaVu Sans Mono',consolas,'Courier New',monospace\">Sampling chain 0, 0 divergences <span style=\"color: #008000; text-decoration-color: #008000\">━━━━━━━━━━━━━━━━━━━━━━━━━━━━━━━━━━━━━━━━</span> <span style=\"color: #800080; text-decoration-color: #800080\">100%</span> <span style=\"color: #008080; text-decoration-color: #008080\">0:00:00</span> / <span style=\"color: #808000; text-decoration-color: #808000\">0:00:13</span>\n</pre>\n"
                },
                "metadata": {}
              }
            ]
          }
        },
        "6ca3194a658d4639aff9e4f2addfd69c": {
          "model_module": "@jupyter-widgets/base",
          "model_name": "LayoutModel",
          "model_module_version": "1.2.0",
          "state": {
            "_model_module": "@jupyter-widgets/base",
            "_model_module_version": "1.2.0",
            "_model_name": "LayoutModel",
            "_view_count": null,
            "_view_module": "@jupyter-widgets/base",
            "_view_module_version": "1.2.0",
            "_view_name": "LayoutView",
            "align_content": null,
            "align_items": null,
            "align_self": null,
            "border": null,
            "bottom": null,
            "display": null,
            "flex": null,
            "flex_flow": null,
            "grid_area": null,
            "grid_auto_columns": null,
            "grid_auto_flow": null,
            "grid_auto_rows": null,
            "grid_column": null,
            "grid_gap": null,
            "grid_row": null,
            "grid_template_areas": null,
            "grid_template_columns": null,
            "grid_template_rows": null,
            "height": null,
            "justify_content": null,
            "justify_items": null,
            "left": null,
            "margin": null,
            "max_height": null,
            "max_width": null,
            "min_height": null,
            "min_width": null,
            "object_fit": null,
            "object_position": null,
            "order": null,
            "overflow": null,
            "overflow_x": null,
            "overflow_y": null,
            "padding": null,
            "right": null,
            "top": null,
            "visibility": null,
            "width": null
          }
        },
        "c7a21ee5186d4faab42c93ec5aa923b7": {
          "model_module": "@jupyter-widgets/output",
          "model_name": "OutputModel",
          "model_module_version": "1.0.0",
          "state": {
            "_dom_classes": [],
            "_model_module": "@jupyter-widgets/output",
            "_model_module_version": "1.0.0",
            "_model_name": "OutputModel",
            "_view_count": null,
            "_view_module": "@jupyter-widgets/output",
            "_view_module_version": "1.0.0",
            "_view_name": "OutputView",
            "layout": "IPY_MODEL_2222ec29726b4c88af7d18a9d39287dd",
            "msg_id": "",
            "outputs": [
              {
                "output_type": "display_data",
                "data": {
                  "text/plain": "Sampling chain 1, 0 divergences \u001b[32m━━━━━━━━━━━━━━━━━━━━━━━━━━━━━━━━━━━━━━━━\u001b[0m \u001b[35m100%\u001b[0m \u001b[36m0:00:00\u001b[0m / \u001b[33m0:00:12\u001b[0m\n",
                  "text/html": "<pre style=\"white-space:pre;overflow-x:auto;line-height:normal;font-family:Menlo,'DejaVu Sans Mono',consolas,'Courier New',monospace\">Sampling chain 1, 0 divergences <span style=\"color: #008000; text-decoration-color: #008000\">━━━━━━━━━━━━━━━━━━━━━━━━━━━━━━━━━━━━━━━━</span> <span style=\"color: #800080; text-decoration-color: #800080\">100%</span> <span style=\"color: #008080; text-decoration-color: #008080\">0:00:00</span> / <span style=\"color: #808000; text-decoration-color: #808000\">0:00:12</span>\n</pre>\n"
                },
                "metadata": {}
              }
            ]
          }
        },
        "2222ec29726b4c88af7d18a9d39287dd": {
          "model_module": "@jupyter-widgets/base",
          "model_name": "LayoutModel",
          "model_module_version": "1.2.0",
          "state": {
            "_model_module": "@jupyter-widgets/base",
            "_model_module_version": "1.2.0",
            "_model_name": "LayoutModel",
            "_view_count": null,
            "_view_module": "@jupyter-widgets/base",
            "_view_module_version": "1.2.0",
            "_view_name": "LayoutView",
            "align_content": null,
            "align_items": null,
            "align_self": null,
            "border": null,
            "bottom": null,
            "display": null,
            "flex": null,
            "flex_flow": null,
            "grid_area": null,
            "grid_auto_columns": null,
            "grid_auto_flow": null,
            "grid_auto_rows": null,
            "grid_column": null,
            "grid_gap": null,
            "grid_row": null,
            "grid_template_areas": null,
            "grid_template_columns": null,
            "grid_template_rows": null,
            "height": null,
            "justify_content": null,
            "justify_items": null,
            "left": null,
            "margin": null,
            "max_height": null,
            "max_width": null,
            "min_height": null,
            "min_width": null,
            "object_fit": null,
            "object_position": null,
            "order": null,
            "overflow": null,
            "overflow_x": null,
            "overflow_y": null,
            "padding": null,
            "right": null,
            "top": null,
            "visibility": null,
            "width": null
          }
        },
        "3559d35bf15048d58f6a877ef9595e1d": {
          "model_module": "@jupyter-widgets/output",
          "model_name": "OutputModel",
          "model_module_version": "1.0.0",
          "state": {
            "_dom_classes": [],
            "_model_module": "@jupyter-widgets/output",
            "_model_module_version": "1.0.0",
            "_model_name": "OutputModel",
            "_view_count": null,
            "_view_module": "@jupyter-widgets/output",
            "_view_module_version": "1.0.0",
            "_view_name": "OutputView",
            "layout": "IPY_MODEL_5738a22354c84ddaa107aca34d8e01d5",
            "msg_id": "",
            "outputs": [
              {
                "output_type": "display_data",
                "data": {
                  "text/plain": "Sampling chain 0, 0 divergences \u001b[32m━━━━━━━━━━━━━━━━━━━━━━━━━━━━━━━━━━━━━━━━\u001b[0m \u001b[35m100%\u001b[0m \u001b[36m0:00:00\u001b[0m / \u001b[33m0:07:20\u001b[0m\n",
                  "text/html": "<pre style=\"white-space:pre;overflow-x:auto;line-height:normal;font-family:Menlo,'DejaVu Sans Mono',consolas,'Courier New',monospace\">Sampling chain 0, 0 divergences <span style=\"color: #008000; text-decoration-color: #008000\">━━━━━━━━━━━━━━━━━━━━━━━━━━━━━━━━━━━━━━━━</span> <span style=\"color: #800080; text-decoration-color: #800080\">100%</span> <span style=\"color: #008080; text-decoration-color: #008080\">0:00:00</span> / <span style=\"color: #808000; text-decoration-color: #808000\">0:07:20</span>\n</pre>\n"
                },
                "metadata": {}
              }
            ]
          }
        },
        "5738a22354c84ddaa107aca34d8e01d5": {
          "model_module": "@jupyter-widgets/base",
          "model_name": "LayoutModel",
          "model_module_version": "1.2.0",
          "state": {
            "_model_module": "@jupyter-widgets/base",
            "_model_module_version": "1.2.0",
            "_model_name": "LayoutModel",
            "_view_count": null,
            "_view_module": "@jupyter-widgets/base",
            "_view_module_version": "1.2.0",
            "_view_name": "LayoutView",
            "align_content": null,
            "align_items": null,
            "align_self": null,
            "border": null,
            "bottom": null,
            "display": null,
            "flex": null,
            "flex_flow": null,
            "grid_area": null,
            "grid_auto_columns": null,
            "grid_auto_flow": null,
            "grid_auto_rows": null,
            "grid_column": null,
            "grid_gap": null,
            "grid_row": null,
            "grid_template_areas": null,
            "grid_template_columns": null,
            "grid_template_rows": null,
            "height": null,
            "justify_content": null,
            "justify_items": null,
            "left": null,
            "margin": null,
            "max_height": null,
            "max_width": null,
            "min_height": null,
            "min_width": null,
            "object_fit": null,
            "object_position": null,
            "order": null,
            "overflow": null,
            "overflow_x": null,
            "overflow_y": null,
            "padding": null,
            "right": null,
            "top": null,
            "visibility": null,
            "width": null
          }
        },
        "1553309b8236455a96f78d7fa3fa8656": {
          "model_module": "@jupyter-widgets/output",
          "model_name": "OutputModel",
          "model_module_version": "1.0.0",
          "state": {
            "_dom_classes": [],
            "_model_module": "@jupyter-widgets/output",
            "_model_module_version": "1.0.0",
            "_model_name": "OutputModel",
            "_view_count": null,
            "_view_module": "@jupyter-widgets/output",
            "_view_module_version": "1.0.0",
            "_view_name": "OutputView",
            "layout": "IPY_MODEL_ee5de4d5e12b4da198a935a6acc9c536",
            "msg_id": "",
            "outputs": [
              {
                "output_type": "display_data",
                "data": {
                  "text/plain": "Sampling chain 1, 0 divergences \u001b[32m━━━━━━━━━━━━━━━━━━━━━━━━━━━━━━━━━━━━━━━━\u001b[0m \u001b[35m100%\u001b[0m \u001b[36m0:00:00\u001b[0m / \u001b[33m0:06:39\u001b[0m\n",
                  "text/html": "<pre style=\"white-space:pre;overflow-x:auto;line-height:normal;font-family:Menlo,'DejaVu Sans Mono',consolas,'Courier New',monospace\">Sampling chain 1, 0 divergences <span style=\"color: #008000; text-decoration-color: #008000\">━━━━━━━━━━━━━━━━━━━━━━━━━━━━━━━━━━━━━━━━</span> <span style=\"color: #800080; text-decoration-color: #800080\">100%</span> <span style=\"color: #008080; text-decoration-color: #008080\">0:00:00</span> / <span style=\"color: #808000; text-decoration-color: #808000\">0:06:39</span>\n</pre>\n"
                },
                "metadata": {}
              }
            ]
          }
        },
        "ee5de4d5e12b4da198a935a6acc9c536": {
          "model_module": "@jupyter-widgets/base",
          "model_name": "LayoutModel",
          "model_module_version": "1.2.0",
          "state": {
            "_model_module": "@jupyter-widgets/base",
            "_model_module_version": "1.2.0",
            "_model_name": "LayoutModel",
            "_view_count": null,
            "_view_module": "@jupyter-widgets/base",
            "_view_module_version": "1.2.0",
            "_view_name": "LayoutView",
            "align_content": null,
            "align_items": null,
            "align_self": null,
            "border": null,
            "bottom": null,
            "display": null,
            "flex": null,
            "flex_flow": null,
            "grid_area": null,
            "grid_auto_columns": null,
            "grid_auto_flow": null,
            "grid_auto_rows": null,
            "grid_column": null,
            "grid_gap": null,
            "grid_row": null,
            "grid_template_areas": null,
            "grid_template_columns": null,
            "grid_template_rows": null,
            "height": null,
            "justify_content": null,
            "justify_items": null,
            "left": null,
            "margin": null,
            "max_height": null,
            "max_width": null,
            "min_height": null,
            "min_width": null,
            "object_fit": null,
            "object_position": null,
            "order": null,
            "overflow": null,
            "overflow_x": null,
            "overflow_y": null,
            "padding": null,
            "right": null,
            "top": null,
            "visibility": null,
            "width": null
          }
        },
        "696c265fc4064906af49d48748ecf554": {
          "model_module": "@jupyter-widgets/output",
          "model_name": "OutputModel",
          "model_module_version": "1.0.0",
          "state": {
            "_dom_classes": [],
            "_model_module": "@jupyter-widgets/output",
            "_model_module_version": "1.0.0",
            "_model_name": "OutputModel",
            "_view_count": null,
            "_view_module": "@jupyter-widgets/output",
            "_view_module_version": "1.0.0",
            "_view_name": "OutputView",
            "layout": "IPY_MODEL_10ab0ac3d0c241af9f08fe5fbd469cbc",
            "msg_id": "",
            "outputs": [
              {
                "output_type": "display_data",
                "data": {
                  "text/plain": "Sampling chain 0, 0 divergences \u001b[32m━━━━━━━━━━━━━━━━━━━━━━━━━━━━━━━━━━━━━━━━\u001b[0m \u001b[35m100%\u001b[0m \u001b[36m0:00:00\u001b[0m / \u001b[33m0:00:15\u001b[0m\n",
                  "text/html": "<pre style=\"white-space:pre;overflow-x:auto;line-height:normal;font-family:Menlo,'DejaVu Sans Mono',consolas,'Courier New',monospace\">Sampling chain 0, 0 divergences <span style=\"color: #008000; text-decoration-color: #008000\">━━━━━━━━━━━━━━━━━━━━━━━━━━━━━━━━━━━━━━━━</span> <span style=\"color: #800080; text-decoration-color: #800080\">100%</span> <span style=\"color: #008080; text-decoration-color: #008080\">0:00:00</span> / <span style=\"color: #808000; text-decoration-color: #808000\">0:00:15</span>\n</pre>\n"
                },
                "metadata": {}
              }
            ]
          }
        },
        "10ab0ac3d0c241af9f08fe5fbd469cbc": {
          "model_module": "@jupyter-widgets/base",
          "model_name": "LayoutModel",
          "model_module_version": "1.2.0",
          "state": {
            "_model_module": "@jupyter-widgets/base",
            "_model_module_version": "1.2.0",
            "_model_name": "LayoutModel",
            "_view_count": null,
            "_view_module": "@jupyter-widgets/base",
            "_view_module_version": "1.2.0",
            "_view_name": "LayoutView",
            "align_content": null,
            "align_items": null,
            "align_self": null,
            "border": null,
            "bottom": null,
            "display": null,
            "flex": null,
            "flex_flow": null,
            "grid_area": null,
            "grid_auto_columns": null,
            "grid_auto_flow": null,
            "grid_auto_rows": null,
            "grid_column": null,
            "grid_gap": null,
            "grid_row": null,
            "grid_template_areas": null,
            "grid_template_columns": null,
            "grid_template_rows": null,
            "height": null,
            "justify_content": null,
            "justify_items": null,
            "left": null,
            "margin": null,
            "max_height": null,
            "max_width": null,
            "min_height": null,
            "min_width": null,
            "object_fit": null,
            "object_position": null,
            "order": null,
            "overflow": null,
            "overflow_x": null,
            "overflow_y": null,
            "padding": null,
            "right": null,
            "top": null,
            "visibility": null,
            "width": null
          }
        },
        "00ec3bdae3334cce82fa2f6e9998c0b1": {
          "model_module": "@jupyter-widgets/output",
          "model_name": "OutputModel",
          "model_module_version": "1.0.0",
          "state": {
            "_dom_classes": [],
            "_model_module": "@jupyter-widgets/output",
            "_model_module_version": "1.0.0",
            "_model_name": "OutputModel",
            "_view_count": null,
            "_view_module": "@jupyter-widgets/output",
            "_view_module_version": "1.0.0",
            "_view_name": "OutputView",
            "layout": "IPY_MODEL_8748f35de1db480586e7ff40e97f3e09",
            "msg_id": "",
            "outputs": [
              {
                "output_type": "display_data",
                "data": {
                  "text/plain": "Sampling chain 1, 0 divergences \u001b[32m━━━━━━━━━━━━━━━━━━━━━━━━━━━━━━━━━━━━━━━━\u001b[0m \u001b[35m100%\u001b[0m \u001b[36m0:00:00\u001b[0m / \u001b[33m0:00:17\u001b[0m\n",
                  "text/html": "<pre style=\"white-space:pre;overflow-x:auto;line-height:normal;font-family:Menlo,'DejaVu Sans Mono',consolas,'Courier New',monospace\">Sampling chain 1, 0 divergences <span style=\"color: #008000; text-decoration-color: #008000\">━━━━━━━━━━━━━━━━━━━━━━━━━━━━━━━━━━━━━━━━</span> <span style=\"color: #800080; text-decoration-color: #800080\">100%</span> <span style=\"color: #008080; text-decoration-color: #008080\">0:00:00</span> / <span style=\"color: #808000; text-decoration-color: #808000\">0:00:17</span>\n</pre>\n"
                },
                "metadata": {}
              }
            ]
          }
        },
        "8748f35de1db480586e7ff40e97f3e09": {
          "model_module": "@jupyter-widgets/base",
          "model_name": "LayoutModel",
          "model_module_version": "1.2.0",
          "state": {
            "_model_module": "@jupyter-widgets/base",
            "_model_module_version": "1.2.0",
            "_model_name": "LayoutModel",
            "_view_count": null,
            "_view_module": "@jupyter-widgets/base",
            "_view_module_version": "1.2.0",
            "_view_name": "LayoutView",
            "align_content": null,
            "align_items": null,
            "align_self": null,
            "border": null,
            "bottom": null,
            "display": null,
            "flex": null,
            "flex_flow": null,
            "grid_area": null,
            "grid_auto_columns": null,
            "grid_auto_flow": null,
            "grid_auto_rows": null,
            "grid_column": null,
            "grid_gap": null,
            "grid_row": null,
            "grid_template_areas": null,
            "grid_template_columns": null,
            "grid_template_rows": null,
            "height": null,
            "justify_content": null,
            "justify_items": null,
            "left": null,
            "margin": null,
            "max_height": null,
            "max_width": null,
            "min_height": null,
            "min_width": null,
            "object_fit": null,
            "object_position": null,
            "order": null,
            "overflow": null,
            "overflow_x": null,
            "overflow_y": null,
            "padding": null,
            "right": null,
            "top": null,
            "visibility": null,
            "width": null
          }
        },
        "09013b1921144d6d82863f0de27412de": {
          "model_module": "@jupyter-widgets/output",
          "model_name": "OutputModel",
          "model_module_version": "1.0.0",
          "state": {
            "_dom_classes": [],
            "_model_module": "@jupyter-widgets/output",
            "_model_module_version": "1.0.0",
            "_model_name": "OutputModel",
            "_view_count": null,
            "_view_module": "@jupyter-widgets/output",
            "_view_module_version": "1.0.0",
            "_view_name": "OutputView",
            "layout": "IPY_MODEL_f968b461075140c286645fc7e4d26c3f",
            "msg_id": "",
            "outputs": [
              {
                "output_type": "display_data",
                "data": {
                  "text/plain": "Sampling chain 0, 0 divergences \u001b[32m━━━━━━━━━━━━━━━━━━━━━━━━━━━━━━━━━━━━━━━━\u001b[0m \u001b[35m100%\u001b[0m \u001b[36m0:00:00\u001b[0m / \u001b[33m0:00:16\u001b[0m\n",
                  "text/html": "<pre style=\"white-space:pre;overflow-x:auto;line-height:normal;font-family:Menlo,'DejaVu Sans Mono',consolas,'Courier New',monospace\">Sampling chain 0, 0 divergences <span style=\"color: #008000; text-decoration-color: #008000\">━━━━━━━━━━━━━━━━━━━━━━━━━━━━━━━━━━━━━━━━</span> <span style=\"color: #800080; text-decoration-color: #800080\">100%</span> <span style=\"color: #008080; text-decoration-color: #008080\">0:00:00</span> / <span style=\"color: #808000; text-decoration-color: #808000\">0:00:16</span>\n</pre>\n"
                },
                "metadata": {}
              }
            ]
          }
        },
        "f968b461075140c286645fc7e4d26c3f": {
          "model_module": "@jupyter-widgets/base",
          "model_name": "LayoutModel",
          "model_module_version": "1.2.0",
          "state": {
            "_model_module": "@jupyter-widgets/base",
            "_model_module_version": "1.2.0",
            "_model_name": "LayoutModel",
            "_view_count": null,
            "_view_module": "@jupyter-widgets/base",
            "_view_module_version": "1.2.0",
            "_view_name": "LayoutView",
            "align_content": null,
            "align_items": null,
            "align_self": null,
            "border": null,
            "bottom": null,
            "display": null,
            "flex": null,
            "flex_flow": null,
            "grid_area": null,
            "grid_auto_columns": null,
            "grid_auto_flow": null,
            "grid_auto_rows": null,
            "grid_column": null,
            "grid_gap": null,
            "grid_row": null,
            "grid_template_areas": null,
            "grid_template_columns": null,
            "grid_template_rows": null,
            "height": null,
            "justify_content": null,
            "justify_items": null,
            "left": null,
            "margin": null,
            "max_height": null,
            "max_width": null,
            "min_height": null,
            "min_width": null,
            "object_fit": null,
            "object_position": null,
            "order": null,
            "overflow": null,
            "overflow_x": null,
            "overflow_y": null,
            "padding": null,
            "right": null,
            "top": null,
            "visibility": null,
            "width": null
          }
        },
        "46cfa869cd1b4a7f9e320ba737d8b594": {
          "model_module": "@jupyter-widgets/output",
          "model_name": "OutputModel",
          "model_module_version": "1.0.0",
          "state": {
            "_dom_classes": [],
            "_model_module": "@jupyter-widgets/output",
            "_model_module_version": "1.0.0",
            "_model_name": "OutputModel",
            "_view_count": null,
            "_view_module": "@jupyter-widgets/output",
            "_view_module_version": "1.0.0",
            "_view_name": "OutputView",
            "layout": "IPY_MODEL_ae624abc96af418087c08f6391a31514",
            "msg_id": "",
            "outputs": [
              {
                "output_type": "display_data",
                "data": {
                  "text/plain": "Sampling chain 1, 0 divergences \u001b[32m━━━━━━━━━━━━━━━━━━━━━━━━━━━━━━━━━━━━━━━━\u001b[0m \u001b[35m100%\u001b[0m \u001b[36m0:00:00\u001b[0m / \u001b[33m0:00:18\u001b[0m\n",
                  "text/html": "<pre style=\"white-space:pre;overflow-x:auto;line-height:normal;font-family:Menlo,'DejaVu Sans Mono',consolas,'Courier New',monospace\">Sampling chain 1, 0 divergences <span style=\"color: #008000; text-decoration-color: #008000\">━━━━━━━━━━━━━━━━━━━━━━━━━━━━━━━━━━━━━━━━</span> <span style=\"color: #800080; text-decoration-color: #800080\">100%</span> <span style=\"color: #008080; text-decoration-color: #008080\">0:00:00</span> / <span style=\"color: #808000; text-decoration-color: #808000\">0:00:18</span>\n</pre>\n"
                },
                "metadata": {}
              }
            ]
          }
        },
        "ae624abc96af418087c08f6391a31514": {
          "model_module": "@jupyter-widgets/base",
          "model_name": "LayoutModel",
          "model_module_version": "1.2.0",
          "state": {
            "_model_module": "@jupyter-widgets/base",
            "_model_module_version": "1.2.0",
            "_model_name": "LayoutModel",
            "_view_count": null,
            "_view_module": "@jupyter-widgets/base",
            "_view_module_version": "1.2.0",
            "_view_name": "LayoutView",
            "align_content": null,
            "align_items": null,
            "align_self": null,
            "border": null,
            "bottom": null,
            "display": null,
            "flex": null,
            "flex_flow": null,
            "grid_area": null,
            "grid_auto_columns": null,
            "grid_auto_flow": null,
            "grid_auto_rows": null,
            "grid_column": null,
            "grid_gap": null,
            "grid_row": null,
            "grid_template_areas": null,
            "grid_template_columns": null,
            "grid_template_rows": null,
            "height": null,
            "justify_content": null,
            "justify_items": null,
            "left": null,
            "margin": null,
            "max_height": null,
            "max_width": null,
            "min_height": null,
            "min_width": null,
            "object_fit": null,
            "object_position": null,
            "order": null,
            "overflow": null,
            "overflow_x": null,
            "overflow_y": null,
            "padding": null,
            "right": null,
            "top": null,
            "visibility": null,
            "width": null
          }
        },
        "4f523371c3fe47298754c9ef1ebfdc42": {
          "model_module": "@jupyter-widgets/output",
          "model_name": "OutputModel",
          "model_module_version": "1.0.0",
          "state": {
            "_dom_classes": [],
            "_model_module": "@jupyter-widgets/output",
            "_model_module_version": "1.0.0",
            "_model_name": "OutputModel",
            "_view_count": null,
            "_view_module": "@jupyter-widgets/output",
            "_view_module_version": "1.0.0",
            "_view_name": "OutputView",
            "layout": "IPY_MODEL_647af0a8b39f420380282389f4bfa00e",
            "msg_id": "",
            "outputs": [
              {
                "output_type": "display_data",
                "data": {
                  "text/plain": "Sampling chain 0, 0 divergences \u001b[32m━━━━━━━━━━━━━━━━━━━━━━━━━━━━━━━━━━━━━━━━\u001b[0m \u001b[35m100%\u001b[0m \u001b[36m0:00:00\u001b[0m / \u001b[33m0:00:14\u001b[0m\n",
                  "text/html": "<pre style=\"white-space:pre;overflow-x:auto;line-height:normal;font-family:Menlo,'DejaVu Sans Mono',consolas,'Courier New',monospace\">Sampling chain 0, 0 divergences <span style=\"color: #008000; text-decoration-color: #008000\">━━━━━━━━━━━━━━━━━━━━━━━━━━━━━━━━━━━━━━━━</span> <span style=\"color: #800080; text-decoration-color: #800080\">100%</span> <span style=\"color: #008080; text-decoration-color: #008080\">0:00:00</span> / <span style=\"color: #808000; text-decoration-color: #808000\">0:00:14</span>\n</pre>\n"
                },
                "metadata": {}
              }
            ]
          }
        },
        "647af0a8b39f420380282389f4bfa00e": {
          "model_module": "@jupyter-widgets/base",
          "model_name": "LayoutModel",
          "model_module_version": "1.2.0",
          "state": {
            "_model_module": "@jupyter-widgets/base",
            "_model_module_version": "1.2.0",
            "_model_name": "LayoutModel",
            "_view_count": null,
            "_view_module": "@jupyter-widgets/base",
            "_view_module_version": "1.2.0",
            "_view_name": "LayoutView",
            "align_content": null,
            "align_items": null,
            "align_self": null,
            "border": null,
            "bottom": null,
            "display": null,
            "flex": null,
            "flex_flow": null,
            "grid_area": null,
            "grid_auto_columns": null,
            "grid_auto_flow": null,
            "grid_auto_rows": null,
            "grid_column": null,
            "grid_gap": null,
            "grid_row": null,
            "grid_template_areas": null,
            "grid_template_columns": null,
            "grid_template_rows": null,
            "height": null,
            "justify_content": null,
            "justify_items": null,
            "left": null,
            "margin": null,
            "max_height": null,
            "max_width": null,
            "min_height": null,
            "min_width": null,
            "object_fit": null,
            "object_position": null,
            "order": null,
            "overflow": null,
            "overflow_x": null,
            "overflow_y": null,
            "padding": null,
            "right": null,
            "top": null,
            "visibility": null,
            "width": null
          }
        },
        "204d736b98294e229d2f2f624d5ed12d": {
          "model_module": "@jupyter-widgets/output",
          "model_name": "OutputModel",
          "model_module_version": "1.0.0",
          "state": {
            "_dom_classes": [],
            "_model_module": "@jupyter-widgets/output",
            "_model_module_version": "1.0.0",
            "_model_name": "OutputModel",
            "_view_count": null,
            "_view_module": "@jupyter-widgets/output",
            "_view_module_version": "1.0.0",
            "_view_name": "OutputView",
            "layout": "IPY_MODEL_04452df305784a0f9bd499b891b29c59",
            "msg_id": "",
            "outputs": [
              {
                "output_type": "display_data",
                "data": {
                  "text/plain": "Sampling chain 1, 0 divergences \u001b[32m━━━━━━━━━━━━━━━━━━━━━━━━━━━━━━━━━━━━━━━━\u001b[0m \u001b[35m100%\u001b[0m \u001b[36m0:00:00\u001b[0m / \u001b[33m0:00:15\u001b[0m\n",
                  "text/html": "<pre style=\"white-space:pre;overflow-x:auto;line-height:normal;font-family:Menlo,'DejaVu Sans Mono',consolas,'Courier New',monospace\">Sampling chain 1, 0 divergences <span style=\"color: #008000; text-decoration-color: #008000\">━━━━━━━━━━━━━━━━━━━━━━━━━━━━━━━━━━━━━━━━</span> <span style=\"color: #800080; text-decoration-color: #800080\">100%</span> <span style=\"color: #008080; text-decoration-color: #008080\">0:00:00</span> / <span style=\"color: #808000; text-decoration-color: #808000\">0:00:15</span>\n</pre>\n"
                },
                "metadata": {}
              }
            ]
          }
        },
        "04452df305784a0f9bd499b891b29c59": {
          "model_module": "@jupyter-widgets/base",
          "model_name": "LayoutModel",
          "model_module_version": "1.2.0",
          "state": {
            "_model_module": "@jupyter-widgets/base",
            "_model_module_version": "1.2.0",
            "_model_name": "LayoutModel",
            "_view_count": null,
            "_view_module": "@jupyter-widgets/base",
            "_view_module_version": "1.2.0",
            "_view_name": "LayoutView",
            "align_content": null,
            "align_items": null,
            "align_self": null,
            "border": null,
            "bottom": null,
            "display": null,
            "flex": null,
            "flex_flow": null,
            "grid_area": null,
            "grid_auto_columns": null,
            "grid_auto_flow": null,
            "grid_auto_rows": null,
            "grid_column": null,
            "grid_gap": null,
            "grid_row": null,
            "grid_template_areas": null,
            "grid_template_columns": null,
            "grid_template_rows": null,
            "height": null,
            "justify_content": null,
            "justify_items": null,
            "left": null,
            "margin": null,
            "max_height": null,
            "max_width": null,
            "min_height": null,
            "min_width": null,
            "object_fit": null,
            "object_position": null,
            "order": null,
            "overflow": null,
            "overflow_x": null,
            "overflow_y": null,
            "padding": null,
            "right": null,
            "top": null,
            "visibility": null,
            "width": null
          }
        }
      }
    }
  },
  "nbformat": 4,
  "nbformat_minor": 0
}